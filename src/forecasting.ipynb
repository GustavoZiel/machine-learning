{
 "cells": [
  {
   "cell_type": "markdown",
   "id": "520a4e8d",
   "metadata": {},
   "source": [
    "<div align=\"center\">\n",
    "\n",
    "# Projeto 1 - Aprendizado de Máquina (2025)  \n",
    "## **Professor:** Francisco A. Rodrigues  \n",
    "## **Alunos:**  \n",
    "Gustavo Gabriel Ribeiro - 13672683  \n",
    "Letícia - \n",
    "\n",
    "</div>\n"
   ]
  },
  {
   "cell_type": "markdown",
   "id": "5f0b74e5",
   "metadata": {},
   "source": [
    "# Imports"
   ]
  },
  {
   "cell_type": "code",
   "execution_count": 16,
   "id": "35ca010c",
   "metadata": {},
   "outputs": [],
   "source": [
    "import time\n",
    "\n",
    "import lightgbm as lgb\n",
    "import matplotlib.pyplot as plt\n",
    "import numpy as np\n",
    "import optuna\n",
    "import pandas as pd\n",
    "import seaborn as sns\n",
    "from catboost import CatBoostRegressor\n",
    "from lightgbm import LGBMRegressor\n",
    "from mlforecast.feature_engineering import transform_exog\n",
    "from mlforecast.lag_transforms import (\n",
    "    ExpandingMax,\n",
    "    ExpandingMean,\n",
    "    ExpandingMin,\n",
    "    ExpandingStd,\n",
    "    RollingMax,\n",
    "    RollingMean,\n",
    "    RollingMin,\n",
    "    RollingStd,\n",
    ")\n",
    "from sklearn.dummy import DummyRegressor\n",
    "from sklearn.ensemble import (\n",
    "    GradientBoostingRegressor,\n",
    "    HistGradientBoostingRegressor,\n",
    "    RandomForestRegressor,\n",
    ")\n",
    "from sklearn.linear_model import ElasticNet, Lasso, LinearRegression, Ridge\n",
    "from sklearn.metrics import (\n",
    "    mean_absolute_error,\n",
    "    r2_score,\n",
    "    root_mean_squared_error,\n",
    "    root_mean_squared_log_error,\n",
    ")\n",
    "from sklearn.model_selection import TimeSeriesSplit, train_test_split\n",
    "from sklearn.neighbors import KNeighborsRegressor\n",
    "from sklearn.neural_network import MLPRegressor\n",
    "from sklearn.tree import DecisionTreeRegressor\n",
    "from xgboost import XGBRegressor"
   ]
  },
  {
   "cell_type": "markdown",
   "id": "49c7c3b6",
   "metadata": {},
   "source": [
    "# Configs"
   ]
  },
  {
   "cell_type": "code",
   "execution_count": 17,
   "id": "3c38a4f8",
   "metadata": {},
   "outputs": [],
   "source": [
    "pd.set_option(\"display.max_columns\", None)\n",
    "optuna.logging.set_verbosity(optuna.logging.DEBUG)"
   ]
  },
  {
   "cell_type": "markdown",
   "id": "b5d2101f",
   "metadata": {},
   "source": [
    "# Paths"
   ]
  },
  {
   "cell_type": "code",
   "execution_count": 6,
   "id": "b2a53d93",
   "metadata": {},
   "outputs": [],
   "source": [
    "base_folder = \"../data/Ecuador Forecasting/\"\n",
    "competition_data_folder = \"competition_data/\"\n",
    "save_folder = \"saved_datasets/\"\n",
    "submissions_folder = \"submission_files/\""
   ]
  },
  {
   "cell_type": "code",
   "execution_count": 7,
   "id": "db77eda1",
   "metadata": {},
   "outputs": [],
   "source": [
    "df_train_filename = \"train.csv\"\n",
    "df_test_filename = \"test.csv\"\n",
    "df_stores_filename = \"stores.csv\"\n",
    "df_oil_filename = \"oil.csv\"\n",
    "df_holidays_events_filename = \"holidays_events.csv\"\n",
    "df_transactions_filename = \"transactions.csv\""
   ]
  },
  {
   "cell_type": "markdown",
   "id": "852c098c",
   "metadata": {},
   "source": [
    "# Development"
   ]
  },
  {
   "cell_type": "markdown",
   "id": "8c5ed7bc",
   "metadata": {},
   "source": [
    "## Reading Datasets"
   ]
  },
  {
   "cell_type": "code",
   "execution_count": 5,
   "id": "342125af",
   "metadata": {},
   "outputs": [],
   "source": [
    "df_train = pd.read_csv(base_folder + competition_data_folder + df_train_filename)\n",
    "df_test = pd.read_csv(base_folder + competition_data_folder + df_test_filename)\n",
    "df_stores = pd.read_csv(base_folder + competition_data_folder + df_stores_filename)\n",
    "df_oil = pd.read_csv(base_folder + competition_data_folder + df_oil_filename)\n",
    "df_holidays_events = pd.read_csv(\n",
    "    base_folder + competition_data_folder + df_holidays_events_filename\n",
    ")\n",
    "df_transactions = pd.read_csv(base_folder + competition_data_folder + df_transactions_filename)"
   ]
  },
  {
   "cell_type": "code",
   "execution_count": 53,
   "id": "a5ed41af",
   "metadata": {},
   "outputs": [
    {
     "data": {
      "text/html": [
       "<div>\n",
       "<style scoped>\n",
       "    .dataframe tbody tr th:only-of-type {\n",
       "        vertical-align: middle;\n",
       "    }\n",
       "\n",
       "    .dataframe tbody tr th {\n",
       "        vertical-align: top;\n",
       "    }\n",
       "\n",
       "    .dataframe thead th {\n",
       "        text-align: right;\n",
       "    }\n",
       "</style>\n",
       "<table border=\"1\" class=\"dataframe\">\n",
       "  <thead>\n",
       "    <tr style=\"text-align: right;\">\n",
       "      <th></th>\n",
       "      <th>id</th>\n",
       "      <th>date</th>\n",
       "      <th>store_nbr</th>\n",
       "      <th>family</th>\n",
       "      <th>sales</th>\n",
       "      <th>onpromotion</th>\n",
       "    </tr>\n",
       "  </thead>\n",
       "  <tbody>\n",
       "    <tr>\n",
       "      <th>0</th>\n",
       "      <td>0</td>\n",
       "      <td>2013-01-01</td>\n",
       "      <td>1</td>\n",
       "      <td>AUTOMOTIVE</td>\n",
       "      <td>0.0</td>\n",
       "      <td>0</td>\n",
       "    </tr>\n",
       "    <tr>\n",
       "      <th>1</th>\n",
       "      <td>1</td>\n",
       "      <td>2013-01-01</td>\n",
       "      <td>1</td>\n",
       "      <td>BABY CARE</td>\n",
       "      <td>0.0</td>\n",
       "      <td>0</td>\n",
       "    </tr>\n",
       "    <tr>\n",
       "      <th>2</th>\n",
       "      <td>2</td>\n",
       "      <td>2013-01-01</td>\n",
       "      <td>1</td>\n",
       "      <td>BEAUTY</td>\n",
       "      <td>0.0</td>\n",
       "      <td>0</td>\n",
       "    </tr>\n",
       "    <tr>\n",
       "      <th>3</th>\n",
       "      <td>3</td>\n",
       "      <td>2013-01-01</td>\n",
       "      <td>1</td>\n",
       "      <td>BEVERAGES</td>\n",
       "      <td>0.0</td>\n",
       "      <td>0</td>\n",
       "    </tr>\n",
       "    <tr>\n",
       "      <th>4</th>\n",
       "      <td>4</td>\n",
       "      <td>2013-01-01</td>\n",
       "      <td>1</td>\n",
       "      <td>BOOKS</td>\n",
       "      <td>0.0</td>\n",
       "      <td>0</td>\n",
       "    </tr>\n",
       "  </tbody>\n",
       "</table>\n",
       "</div>"
      ],
      "text/plain": [
       "   id        date  store_nbr      family  sales  onpromotion\n",
       "0   0  2013-01-01          1  AUTOMOTIVE    0.0            0\n",
       "1   1  2013-01-01          1   BABY CARE    0.0            0\n",
       "2   2  2013-01-01          1      BEAUTY    0.0            0\n",
       "3   3  2013-01-01          1   BEVERAGES    0.0            0\n",
       "4   4  2013-01-01          1       BOOKS    0.0            0"
      ]
     },
     "execution_count": 53,
     "metadata": {},
     "output_type": "execute_result"
    }
   ],
   "source": [
    "df_train.head()"
   ]
  },
  {
   "cell_type": "code",
   "execution_count": 54,
   "id": "4355e859",
   "metadata": {},
   "outputs": [
    {
     "data": {
      "text/html": [
       "<div>\n",
       "<style scoped>\n",
       "    .dataframe tbody tr th:only-of-type {\n",
       "        vertical-align: middle;\n",
       "    }\n",
       "\n",
       "    .dataframe tbody tr th {\n",
       "        vertical-align: top;\n",
       "    }\n",
       "\n",
       "    .dataframe thead th {\n",
       "        text-align: right;\n",
       "    }\n",
       "</style>\n",
       "<table border=\"1\" class=\"dataframe\">\n",
       "  <thead>\n",
       "    <tr style=\"text-align: right;\">\n",
       "      <th></th>\n",
       "      <th>id</th>\n",
       "      <th>date</th>\n",
       "      <th>store_nbr</th>\n",
       "      <th>family</th>\n",
       "      <th>onpromotion</th>\n",
       "    </tr>\n",
       "  </thead>\n",
       "  <tbody>\n",
       "    <tr>\n",
       "      <th>0</th>\n",
       "      <td>3000888</td>\n",
       "      <td>2017-08-16</td>\n",
       "      <td>1</td>\n",
       "      <td>AUTOMOTIVE</td>\n",
       "      <td>0</td>\n",
       "    </tr>\n",
       "    <tr>\n",
       "      <th>1</th>\n",
       "      <td>3000889</td>\n",
       "      <td>2017-08-16</td>\n",
       "      <td>1</td>\n",
       "      <td>BABY CARE</td>\n",
       "      <td>0</td>\n",
       "    </tr>\n",
       "    <tr>\n",
       "      <th>2</th>\n",
       "      <td>3000890</td>\n",
       "      <td>2017-08-16</td>\n",
       "      <td>1</td>\n",
       "      <td>BEAUTY</td>\n",
       "      <td>2</td>\n",
       "    </tr>\n",
       "    <tr>\n",
       "      <th>3</th>\n",
       "      <td>3000891</td>\n",
       "      <td>2017-08-16</td>\n",
       "      <td>1</td>\n",
       "      <td>BEVERAGES</td>\n",
       "      <td>20</td>\n",
       "    </tr>\n",
       "    <tr>\n",
       "      <th>4</th>\n",
       "      <td>3000892</td>\n",
       "      <td>2017-08-16</td>\n",
       "      <td>1</td>\n",
       "      <td>BOOKS</td>\n",
       "      <td>0</td>\n",
       "    </tr>\n",
       "  </tbody>\n",
       "</table>\n",
       "</div>"
      ],
      "text/plain": [
       "        id        date  store_nbr      family  onpromotion\n",
       "0  3000888  2017-08-16          1  AUTOMOTIVE            0\n",
       "1  3000889  2017-08-16          1   BABY CARE            0\n",
       "2  3000890  2017-08-16          1      BEAUTY            2\n",
       "3  3000891  2017-08-16          1   BEVERAGES           20\n",
       "4  3000892  2017-08-16          1       BOOKS            0"
      ]
     },
     "execution_count": 54,
     "metadata": {},
     "output_type": "execute_result"
    }
   ],
   "source": [
    "df_test.head()"
   ]
  },
  {
   "cell_type": "code",
   "execution_count": 55,
   "id": "ebc3251b",
   "metadata": {},
   "outputs": [
    {
     "data": {
      "text/html": [
       "<div>\n",
       "<style scoped>\n",
       "    .dataframe tbody tr th:only-of-type {\n",
       "        vertical-align: middle;\n",
       "    }\n",
       "\n",
       "    .dataframe tbody tr th {\n",
       "        vertical-align: top;\n",
       "    }\n",
       "\n",
       "    .dataframe thead th {\n",
       "        text-align: right;\n",
       "    }\n",
       "</style>\n",
       "<table border=\"1\" class=\"dataframe\">\n",
       "  <thead>\n",
       "    <tr style=\"text-align: right;\">\n",
       "      <th></th>\n",
       "      <th>store_nbr</th>\n",
       "      <th>city</th>\n",
       "      <th>state</th>\n",
       "      <th>type</th>\n",
       "      <th>cluster</th>\n",
       "    </tr>\n",
       "  </thead>\n",
       "  <tbody>\n",
       "    <tr>\n",
       "      <th>0</th>\n",
       "      <td>1</td>\n",
       "      <td>Quito</td>\n",
       "      <td>Pichincha</td>\n",
       "      <td>D</td>\n",
       "      <td>13</td>\n",
       "    </tr>\n",
       "    <tr>\n",
       "      <th>1</th>\n",
       "      <td>2</td>\n",
       "      <td>Quito</td>\n",
       "      <td>Pichincha</td>\n",
       "      <td>D</td>\n",
       "      <td>13</td>\n",
       "    </tr>\n",
       "    <tr>\n",
       "      <th>2</th>\n",
       "      <td>3</td>\n",
       "      <td>Quito</td>\n",
       "      <td>Pichincha</td>\n",
       "      <td>D</td>\n",
       "      <td>8</td>\n",
       "    </tr>\n",
       "    <tr>\n",
       "      <th>3</th>\n",
       "      <td>4</td>\n",
       "      <td>Quito</td>\n",
       "      <td>Pichincha</td>\n",
       "      <td>D</td>\n",
       "      <td>9</td>\n",
       "    </tr>\n",
       "    <tr>\n",
       "      <th>4</th>\n",
       "      <td>5</td>\n",
       "      <td>Santo Domingo</td>\n",
       "      <td>Santo Domingo de los Tsachilas</td>\n",
       "      <td>D</td>\n",
       "      <td>4</td>\n",
       "    </tr>\n",
       "  </tbody>\n",
       "</table>\n",
       "</div>"
      ],
      "text/plain": [
       "   store_nbr           city                           state type  cluster\n",
       "0          1          Quito                       Pichincha    D       13\n",
       "1          2          Quito                       Pichincha    D       13\n",
       "2          3          Quito                       Pichincha    D        8\n",
       "3          4          Quito                       Pichincha    D        9\n",
       "4          5  Santo Domingo  Santo Domingo de los Tsachilas    D        4"
      ]
     },
     "execution_count": 55,
     "metadata": {},
     "output_type": "execute_result"
    }
   ],
   "source": [
    "df_stores.head()"
   ]
  },
  {
   "cell_type": "code",
   "execution_count": 56,
   "id": "561315fb",
   "metadata": {},
   "outputs": [
    {
     "data": {
      "text/html": [
       "<div>\n",
       "<style scoped>\n",
       "    .dataframe tbody tr th:only-of-type {\n",
       "        vertical-align: middle;\n",
       "    }\n",
       "\n",
       "    .dataframe tbody tr th {\n",
       "        vertical-align: top;\n",
       "    }\n",
       "\n",
       "    .dataframe thead th {\n",
       "        text-align: right;\n",
       "    }\n",
       "</style>\n",
       "<table border=\"1\" class=\"dataframe\">\n",
       "  <thead>\n",
       "    <tr style=\"text-align: right;\">\n",
       "      <th></th>\n",
       "      <th>date</th>\n",
       "      <th>dcoilwtico</th>\n",
       "    </tr>\n",
       "  </thead>\n",
       "  <tbody>\n",
       "    <tr>\n",
       "      <th>0</th>\n",
       "      <td>2013-01-01</td>\n",
       "      <td>NaN</td>\n",
       "    </tr>\n",
       "    <tr>\n",
       "      <th>1</th>\n",
       "      <td>2013-01-02</td>\n",
       "      <td>93.14</td>\n",
       "    </tr>\n",
       "    <tr>\n",
       "      <th>2</th>\n",
       "      <td>2013-01-03</td>\n",
       "      <td>92.97</td>\n",
       "    </tr>\n",
       "    <tr>\n",
       "      <th>3</th>\n",
       "      <td>2013-01-04</td>\n",
       "      <td>93.12</td>\n",
       "    </tr>\n",
       "    <tr>\n",
       "      <th>4</th>\n",
       "      <td>2013-01-07</td>\n",
       "      <td>93.20</td>\n",
       "    </tr>\n",
       "  </tbody>\n",
       "</table>\n",
       "</div>"
      ],
      "text/plain": [
       "         date  dcoilwtico\n",
       "0  2013-01-01         NaN\n",
       "1  2013-01-02       93.14\n",
       "2  2013-01-03       92.97\n",
       "3  2013-01-04       93.12\n",
       "4  2013-01-07       93.20"
      ]
     },
     "execution_count": 56,
     "metadata": {},
     "output_type": "execute_result"
    }
   ],
   "source": [
    "df_oil.head()"
   ]
  },
  {
   "cell_type": "code",
   "execution_count": 57,
   "id": "8c5f7b00",
   "metadata": {},
   "outputs": [
    {
     "data": {
      "text/html": [
       "<div>\n",
       "<style scoped>\n",
       "    .dataframe tbody tr th:only-of-type {\n",
       "        vertical-align: middle;\n",
       "    }\n",
       "\n",
       "    .dataframe tbody tr th {\n",
       "        vertical-align: top;\n",
       "    }\n",
       "\n",
       "    .dataframe thead th {\n",
       "        text-align: right;\n",
       "    }\n",
       "</style>\n",
       "<table border=\"1\" class=\"dataframe\">\n",
       "  <thead>\n",
       "    <tr style=\"text-align: right;\">\n",
       "      <th></th>\n",
       "      <th>date</th>\n",
       "      <th>type</th>\n",
       "      <th>locale</th>\n",
       "      <th>locale_name</th>\n",
       "      <th>description</th>\n",
       "      <th>transferred</th>\n",
       "    </tr>\n",
       "  </thead>\n",
       "  <tbody>\n",
       "    <tr>\n",
       "      <th>0</th>\n",
       "      <td>2012-03-02</td>\n",
       "      <td>Holiday</td>\n",
       "      <td>Local</td>\n",
       "      <td>Manta</td>\n",
       "      <td>Fundacion de Manta</td>\n",
       "      <td>False</td>\n",
       "    </tr>\n",
       "    <tr>\n",
       "      <th>1</th>\n",
       "      <td>2012-04-01</td>\n",
       "      <td>Holiday</td>\n",
       "      <td>Regional</td>\n",
       "      <td>Cotopaxi</td>\n",
       "      <td>Provincializacion de Cotopaxi</td>\n",
       "      <td>False</td>\n",
       "    </tr>\n",
       "    <tr>\n",
       "      <th>2</th>\n",
       "      <td>2012-04-12</td>\n",
       "      <td>Holiday</td>\n",
       "      <td>Local</td>\n",
       "      <td>Cuenca</td>\n",
       "      <td>Fundacion de Cuenca</td>\n",
       "      <td>False</td>\n",
       "    </tr>\n",
       "    <tr>\n",
       "      <th>3</th>\n",
       "      <td>2012-04-14</td>\n",
       "      <td>Holiday</td>\n",
       "      <td>Local</td>\n",
       "      <td>Libertad</td>\n",
       "      <td>Cantonizacion de Libertad</td>\n",
       "      <td>False</td>\n",
       "    </tr>\n",
       "    <tr>\n",
       "      <th>4</th>\n",
       "      <td>2012-04-21</td>\n",
       "      <td>Holiday</td>\n",
       "      <td>Local</td>\n",
       "      <td>Riobamba</td>\n",
       "      <td>Cantonizacion de Riobamba</td>\n",
       "      <td>False</td>\n",
       "    </tr>\n",
       "  </tbody>\n",
       "</table>\n",
       "</div>"
      ],
      "text/plain": [
       "         date     type    locale locale_name                    description  \\\n",
       "0  2012-03-02  Holiday     Local       Manta             Fundacion de Manta   \n",
       "1  2012-04-01  Holiday  Regional    Cotopaxi  Provincializacion de Cotopaxi   \n",
       "2  2012-04-12  Holiday     Local      Cuenca            Fundacion de Cuenca   \n",
       "3  2012-04-14  Holiday     Local    Libertad      Cantonizacion de Libertad   \n",
       "4  2012-04-21  Holiday     Local    Riobamba      Cantonizacion de Riobamba   \n",
       "\n",
       "   transferred  \n",
       "0        False  \n",
       "1        False  \n",
       "2        False  \n",
       "3        False  \n",
       "4        False  "
      ]
     },
     "execution_count": 57,
     "metadata": {},
     "output_type": "execute_result"
    }
   ],
   "source": [
    "df_holidays_events.head()"
   ]
  },
  {
   "cell_type": "code",
   "execution_count": 58,
   "id": "c028a9c8",
   "metadata": {},
   "outputs": [
    {
     "data": {
      "text/html": [
       "<div>\n",
       "<style scoped>\n",
       "    .dataframe tbody tr th:only-of-type {\n",
       "        vertical-align: middle;\n",
       "    }\n",
       "\n",
       "    .dataframe tbody tr th {\n",
       "        vertical-align: top;\n",
       "    }\n",
       "\n",
       "    .dataframe thead th {\n",
       "        text-align: right;\n",
       "    }\n",
       "</style>\n",
       "<table border=\"1\" class=\"dataframe\">\n",
       "  <thead>\n",
       "    <tr style=\"text-align: right;\">\n",
       "      <th></th>\n",
       "      <th>date</th>\n",
       "      <th>store_nbr</th>\n",
       "      <th>transactions</th>\n",
       "    </tr>\n",
       "  </thead>\n",
       "  <tbody>\n",
       "    <tr>\n",
       "      <th>0</th>\n",
       "      <td>2013-01-01</td>\n",
       "      <td>25</td>\n",
       "      <td>770</td>\n",
       "    </tr>\n",
       "    <tr>\n",
       "      <th>1</th>\n",
       "      <td>2013-01-02</td>\n",
       "      <td>1</td>\n",
       "      <td>2111</td>\n",
       "    </tr>\n",
       "    <tr>\n",
       "      <th>2</th>\n",
       "      <td>2013-01-02</td>\n",
       "      <td>2</td>\n",
       "      <td>2358</td>\n",
       "    </tr>\n",
       "    <tr>\n",
       "      <th>3</th>\n",
       "      <td>2013-01-02</td>\n",
       "      <td>3</td>\n",
       "      <td>3487</td>\n",
       "    </tr>\n",
       "    <tr>\n",
       "      <th>4</th>\n",
       "      <td>2013-01-02</td>\n",
       "      <td>4</td>\n",
       "      <td>1922</td>\n",
       "    </tr>\n",
       "  </tbody>\n",
       "</table>\n",
       "</div>"
      ],
      "text/plain": [
       "         date  store_nbr  transactions\n",
       "0  2013-01-01         25           770\n",
       "1  2013-01-02          1          2111\n",
       "2  2013-01-02          2          2358\n",
       "3  2013-01-02          3          3487\n",
       "4  2013-01-02          4          1922"
      ]
     },
     "execution_count": 58,
     "metadata": {},
     "output_type": "execute_result"
    }
   ],
   "source": [
    "df_transactions.head()"
   ]
  },
  {
   "cell_type": "markdown",
   "id": "adf22432",
   "metadata": {},
   "source": [
    "## Exploratory Data Analysis"
   ]
  },
  {
   "cell_type": "code",
   "execution_count": 59,
   "id": "573dcbde",
   "metadata": {},
   "outputs": [],
   "source": [
    "# from ydata_profiling import ProfileReport\n",
    "\n",
    "# profile = ProfileReport(df_train, title='Pandas Profiling Report', explorative=True)\n",
    "# profile.to_notebook_iframe()"
   ]
  },
  {
   "cell_type": "markdown",
   "id": "2f2ca1d3",
   "metadata": {},
   "source": [
    "## Preprocessing"
   ]
  },
  {
   "cell_type": "markdown",
   "id": "e14e89ff",
   "metadata": {},
   "source": [
    "> Nessa etapas, faremos tratamentos individuais, quando necessário, a cada um dos datasets que componherão o dataset final que será usado para o treinamento"
   ]
  },
  {
   "cell_type": "code",
   "execution_count": 60,
   "id": "0caffacb",
   "metadata": {},
   "outputs": [
    {
     "name": "stdout",
     "output_type": "stream",
     "text": [
      "Período do treino: 2013-01-01 00:00:00 até 2017-08-15 00:00:00 Quantidade de dias: 1687\n",
      "Período do teste: 2017-08-16 00:00:00 até 2017-08-31 00:00:00 Quantidade de dias: 15\n"
     ]
    }
   ],
   "source": [
    "# Transformando todas as colunas 'date' em datetime para facilitar o trabalho com datas.\n",
    "df_train[\"date\"] = pd.to_datetime(df_train[\"date\"])\n",
    "df_test[\"date\"] = pd.to_datetime(df_test[\"date\"])\n",
    "df_oil[\"date\"] = pd.to_datetime(df_oil[\"date\"])\n",
    "df_holidays_events[\"date\"] = pd.to_datetime(df_holidays_events[\"date\"])\n",
    "df_transactions[\"date\"] = pd.to_datetime(df_transactions[\"date\"])\n",
    "\n",
    "# Pegando as datas mínima e máxima do conjunto de treino e de teste\n",
    "train_min_date = df_train[\"date\"].min()\n",
    "train_max_date = df_train[\"date\"].max()\n",
    "test_min_date = df_test[\"date\"].min()\n",
    "test_max_date = df_test[\"date\"].max()\n",
    "\n",
    "# Exibindo o intervalo de datas dos datasets de treino e teste\n",
    "print(\"Período do treino:\", train_min_date, \"até\", train_max_date, \"Quantidade de dias:\", (train_max_date - train_min_date).days)\n",
    "print(\"Período do teste:\", test_min_date, \"até\", test_max_date, \"Quantidade de dias:\", (test_max_date - test_min_date).days)"
   ]
  },
  {
   "cell_type": "code",
   "execution_count": 61,
   "id": "e5334b72",
   "metadata": {},
   "outputs": [],
   "source": [
    "# Juntando os dados de treino e teste em um único DataFrame\n",
    "df = pd.concat([df_train, df_test], axis=0, ignore_index=True)\n",
    "\n",
    "# Criando um identificador único para cada combinação de loja e família de produto\n",
    "df[\"unique_id\"] = df.groupby([\"store_nbr\", \"family\"]).ngroup()"
   ]
  },
  {
   "cell_type": "markdown",
   "id": "583f4d35",
   "metadata": {},
   "source": [
    "### Train-Test Dataset"
   ]
  },
  {
   "cell_type": "code",
   "execution_count": 62,
   "id": "39689359",
   "metadata": {},
   "outputs": [
    {
     "data": {
      "text/plain": [
       "id                 0\n",
       "date               0\n",
       "store_nbr          0\n",
       "family             0\n",
       "sales          28512\n",
       "onpromotion        0\n",
       "unique_id          0\n",
       "dtype: int64"
      ]
     },
     "execution_count": 62,
     "metadata": {},
     "output_type": "execute_result"
    }
   ],
   "source": [
    "# Não há valores nulos no dataset, exceto pela parte de treinamento, em que não temos o target\n",
    "df.isna().sum()"
   ]
  },
  {
   "cell_type": "code",
   "execution_count": 63,
   "id": "dda9b9db",
   "metadata": {},
   "outputs": [],
   "source": [
    "# Criando uma cópia do Dataset para processamento\n",
    "df_joined = df.copy()"
   ]
  },
  {
   "cell_type": "markdown",
   "id": "6072ea4f",
   "metadata": {},
   "source": [
    "### Stores Dataset"
   ]
  },
  {
   "cell_type": "code",
   "execution_count": 64,
   "id": "6c462889",
   "metadata": {},
   "outputs": [
    {
     "data": {
      "text/plain": [
       "store_nbr    0\n",
       "city         0\n",
       "state        0\n",
       "type         0\n",
       "cluster      0\n",
       "dtype: int64"
      ]
     },
     "execution_count": 64,
     "metadata": {},
     "output_type": "execute_result"
    }
   ],
   "source": [
    "# Não há valores nulos\n",
    "df_stores.isna().sum()"
   ]
  },
  {
   "cell_type": "code",
   "execution_count": 65,
   "id": "04620f15",
   "metadata": {},
   "outputs": [],
   "source": [
    "# Unimos esse dataset a nosso dataset principal\n",
    "df_joined = df_joined.merge(df_stores, on=\"store_nbr\", how=\"left\")"
   ]
  },
  {
   "cell_type": "markdown",
   "id": "d9a0aaf9",
   "metadata": {},
   "source": [
    "### Oil Dataset"
   ]
  },
  {
   "cell_type": "code",
   "execution_count": 66,
   "id": "695d32ae",
   "metadata": {},
   "outputs": [
    {
     "data": {
      "text/plain": [
       "date           0\n",
       "dcoilwtico    43\n",
       "dtype: int64"
      ]
     },
     "execution_count": 66,
     "metadata": {},
     "output_type": "execute_result"
    }
   ],
   "source": [
    "# Há valores nulos\n",
    "df_oil.isna().sum()"
   ]
  },
  {
   "cell_type": "code",
   "execution_count": 67,
   "id": "7021d528",
   "metadata": {},
   "outputs": [
    {
     "data": {
      "text/html": [
       "<div>\n",
       "<style scoped>\n",
       "    .dataframe tbody tr th:only-of-type {\n",
       "        vertical-align: middle;\n",
       "    }\n",
       "\n",
       "    .dataframe tbody tr th {\n",
       "        vertical-align: top;\n",
       "    }\n",
       "\n",
       "    .dataframe thead th {\n",
       "        text-align: right;\n",
       "    }\n",
       "</style>\n",
       "<table border=\"1\" class=\"dataframe\">\n",
       "  <thead>\n",
       "    <tr style=\"text-align: right;\">\n",
       "      <th></th>\n",
       "      <th>weekday</th>\n",
       "      <th>dcoilwtico</th>\n",
       "    </tr>\n",
       "  </thead>\n",
       "  <tbody>\n",
       "    <tr>\n",
       "      <th>0</th>\n",
       "      <td>Friday</td>\n",
       "      <td>9</td>\n",
       "    </tr>\n",
       "    <tr>\n",
       "      <th>1</th>\n",
       "      <td>Monday</td>\n",
       "      <td>23</td>\n",
       "    </tr>\n",
       "    <tr>\n",
       "      <th>2</th>\n",
       "      <td>Thursday</td>\n",
       "      <td>7</td>\n",
       "    </tr>\n",
       "    <tr>\n",
       "      <th>3</th>\n",
       "      <td>Tuesday</td>\n",
       "      <td>2</td>\n",
       "    </tr>\n",
       "    <tr>\n",
       "      <th>4</th>\n",
       "      <td>Wednesday</td>\n",
       "      <td>2</td>\n",
       "    </tr>\n",
       "  </tbody>\n",
       "</table>\n",
       "</div>"
      ],
      "text/plain": [
       "     weekday  dcoilwtico\n",
       "0     Friday           9\n",
       "1     Monday          23\n",
       "2   Thursday           7\n",
       "3    Tuesday           2\n",
       "4  Wednesday           2"
      ]
     },
     "execution_count": 67,
     "metadata": {},
     "output_type": "execute_result"
    }
   ],
   "source": [
    "# Investigando quando os valores nulos ocorrem, obtemos a seguinte informação\n",
    "df_oil[\"weekday\"] = df_oil[\"date\"].dt.day_name()\n",
    "df_oil.groupby(\"weekday\")[\"dcoilwtico\"].apply(lambda x: x.isna().sum()).reset_index()"
   ]
  },
  {
   "cell_type": "code",
   "execution_count": 68,
   "id": "608e260c",
   "metadata": {},
   "outputs": [],
   "source": [
    "# Preenchendo os valores ausentes da coluna 'dcoilwtico' com o valor anterior presente (forward fill)\n",
    "df_oil[\"dcoilwtico\"] = df_oil[\"dcoilwtico\"].ffill()"
   ]
  },
  {
   "cell_type": "code",
   "execution_count": 69,
   "id": "a28c3ddd",
   "metadata": {},
   "outputs": [
    {
     "data": {
      "text/html": [
       "<div>\n",
       "<style scoped>\n",
       "    .dataframe tbody tr th:only-of-type {\n",
       "        vertical-align: middle;\n",
       "    }\n",
       "\n",
       "    .dataframe tbody tr th {\n",
       "        vertical-align: top;\n",
       "    }\n",
       "\n",
       "    .dataframe thead th {\n",
       "        text-align: right;\n",
       "    }\n",
       "</style>\n",
       "<table border=\"1\" class=\"dataframe\">\n",
       "  <thead>\n",
       "    <tr style=\"text-align: right;\">\n",
       "      <th></th>\n",
       "      <th>weekday</th>\n",
       "      <th>dcoilwtico</th>\n",
       "    </tr>\n",
       "  </thead>\n",
       "  <tbody>\n",
       "    <tr>\n",
       "      <th>0</th>\n",
       "      <td>Friday</td>\n",
       "      <td>0</td>\n",
       "    </tr>\n",
       "    <tr>\n",
       "      <th>1</th>\n",
       "      <td>Monday</td>\n",
       "      <td>0</td>\n",
       "    </tr>\n",
       "    <tr>\n",
       "      <th>2</th>\n",
       "      <td>Thursday</td>\n",
       "      <td>0</td>\n",
       "    </tr>\n",
       "    <tr>\n",
       "      <th>3</th>\n",
       "      <td>Tuesday</td>\n",
       "      <td>1</td>\n",
       "    </tr>\n",
       "    <tr>\n",
       "      <th>4</th>\n",
       "      <td>Wednesday</td>\n",
       "      <td>0</td>\n",
       "    </tr>\n",
       "  </tbody>\n",
       "</table>\n",
       "</div>"
      ],
      "text/plain": [
       "     weekday  dcoilwtico\n",
       "0     Friday           0\n",
       "1     Monday           0\n",
       "2   Thursday           0\n",
       "3    Tuesday           1\n",
       "4  Wednesday           0"
      ]
     },
     "execution_count": 69,
     "metadata": {},
     "output_type": "execute_result"
    }
   ],
   "source": [
    "# Checando que os valores nulos foram preenchidos\n",
    "df_oil.groupby(\"weekday\")[\"dcoilwtico\"].apply(lambda x: x.isna().sum()).reset_index()"
   ]
  },
  {
   "cell_type": "code",
   "execution_count": 70,
   "id": "b6408189",
   "metadata": {},
   "outputs": [],
   "source": [
    "# Unimos esse dataset a nosso dataset principal\n",
    "df_joined = df_joined.merge(df_oil[[\"date\", \"dcoilwtico\"]], on=\"date\", how=\"left\")"
   ]
  },
  {
   "cell_type": "markdown",
   "id": "b6c34961",
   "metadata": {},
   "source": [
    "### Holidays Dataset"
   ]
  },
  {
   "cell_type": "code",
   "execution_count": 71,
   "id": "dc1deb8f",
   "metadata": {},
   "outputs": [
    {
     "data": {
      "text/plain": [
       "date           0\n",
       "type           0\n",
       "locale         0\n",
       "locale_name    0\n",
       "description    0\n",
       "transferred    0\n",
       "dtype: int64"
      ]
     },
     "execution_count": 71,
     "metadata": {},
     "output_type": "execute_result"
    }
   ],
   "source": [
    "# Não há valores nulos\n",
    "df_holidays_events.isna().sum()"
   ]
  },
  {
   "cell_type": "code",
   "execution_count": 72,
   "id": "ee0f236d",
   "metadata": {},
   "outputs": [
    {
     "name": "stdout",
     "output_type": "stream",
     "text": [
      "Nomes de localidades com feriado nacional:\n",
      " ['Ecuador']\n",
      "Nomes de localidades com feriado regional:\n",
      " ['Cotopaxi', 'Imbabura', 'Santa Elena', 'Santo Domingo de los Tsachilas']\n",
      "Nomes de localidades com feriado local:\n",
      " ['Ambato', 'Cayambe', 'Cuenca', 'El Carmen', 'Esmeraldas', 'Guaranda', 'Guayaquil', 'Ibarra', 'Latacunga', 'Libertad', 'Loja', 'Machala', 'Manta', 'Puyo', 'Quevedo', 'Quito', 'Riobamba', 'Salinas', 'Santo Domingo']\n"
     ]
    }
   ],
   "source": [
    "# Coletando os nomes únicos de regiões para cada tipo de feriado: Nacional, Regional e Local\n",
    "national_locale_name = sorted(\n",
    "    df_holidays_events[df_holidays_events[\"locale\"] == \"National\"][\"locale_name\"].unique().tolist()\n",
    ")\n",
    "regional_locale_name = sorted(\n",
    "    df_holidays_events[df_holidays_events[\"locale\"] == \"Regional\"][\"locale_name\"].unique().tolist()\n",
    ")\n",
    "local_locale_name = sorted(\n",
    "    df_holidays_events[df_holidays_events[\"locale\"] == \"Local\"][\"locale_name\"].unique().tolist()\n",
    ")\n",
    "\n",
    "# Mostrando os nomes associados a cada tipo de feriado\n",
    "print(\"Nomes de localidades com feriado nacional:\\n\", national_locale_name)\n",
    "print(\"Nomes de localidades com feriado regional:\\n\", regional_locale_name)\n",
    "print(\"Nomes de localidades com feriado local:\\n\", local_locale_name)"
   ]
  },
  {
   "cell_type": "code",
   "execution_count": 73,
   "id": "a8d91ef3",
   "metadata": {},
   "outputs": [
    {
     "name": "stdout",
     "output_type": "stream",
     "text": [
      "Valores únicos para a coluna type:\n",
      " ['Additional', 'Bridge', 'Event', 'Holiday', 'Transfer', 'Work Day']\n",
      "Valores únicos para a coluna locale:\n",
      " ['Local', 'National', 'Regional']\n",
      "Valores únicos para a coluna locale_name:\n",
      " ['Ambato', 'Cayambe', 'Cotopaxi', 'Cuenca', 'Ecuador', 'El Carmen', 'Esmeraldas', 'Guaranda', 'Guayaquil', 'Ibarra', 'Imbabura', 'Latacunga', 'Libertad', 'Loja', 'Machala', 'Manta', 'Puyo', 'Quevedo', 'Quito', 'Riobamba', 'Salinas', 'Santa Elena', 'Santo Domingo', 'Santo Domingo de los Tsachilas']\n",
      "Valores únicos para a coluna description:\n",
      " ['Batalla de Pichincha', 'Black Friday', 'Cantonizacion de Cayambe', 'Cantonizacion de El Carmen', 'Cantonizacion de Guaranda', 'Cantonizacion de Latacunga', 'Cantonizacion de Libertad', 'Cantonizacion de Quevedo', 'Cantonizacion de Riobamba', 'Cantonizacion de Salinas', 'Cantonizacion del Puyo', 'Carnaval', 'Cyber Monday', 'Dia de Difuntos', 'Dia de la Madre', 'Dia de la Madre-1', 'Dia del Trabajo', 'Fundacion de Ambato', 'Fundacion de Cuenca', 'Fundacion de Esmeraldas', 'Fundacion de Guayaquil', 'Fundacion de Guayaquil-1', 'Fundacion de Ibarra', 'Fundacion de Loja', 'Fundacion de Machala', 'Fundacion de Manta', 'Fundacion de Quito', 'Fundacion de Quito-1', 'Fundacion de Riobamba', 'Fundacion de Santo Domingo', 'Inauguracion Mundial de futbol Brasil', 'Independencia de Ambato', 'Independencia de Cuenca', 'Independencia de Guaranda', 'Independencia de Guayaquil', 'Independencia de Latacunga', 'Mundial de futbol Brasil: Cuartos de Final', 'Mundial de futbol Brasil: Ecuador-Francia', 'Mundial de futbol Brasil: Ecuador-Honduras', 'Mundial de futbol Brasil: Ecuador-Suiza', 'Mundial de futbol Brasil: Final', 'Mundial de futbol Brasil: Octavos de Final', 'Mundial de futbol Brasil: Semifinales', 'Mundial de futbol Brasil: Tercer y cuarto lugar', 'Navidad', 'Navidad+1', 'Navidad-1', 'Navidad-2', 'Navidad-3', 'Navidad-4', 'Primer Grito de Independencia', 'Primer dia del ano', 'Primer dia del ano-1', 'Provincializacion Santa Elena', 'Provincializacion de Cotopaxi', 'Provincializacion de Imbabura', 'Provincializacion de Santo Domingo', 'Puente Dia de Difuntos', 'Puente Navidad', 'Puente Primer dia del ano', 'Recupero Puente Dia de Difuntos', 'Recupero Puente Navidad', 'Recupero Puente Primer dia del ano', 'Recupero puente Navidad', 'Recupero puente primer dia del ano', 'Terremoto Manabi', 'Terremoto Manabi+1', 'Terremoto Manabi+10', 'Terremoto Manabi+11', 'Terremoto Manabi+12', 'Terremoto Manabi+13', 'Terremoto Manabi+14', 'Terremoto Manabi+15', 'Terremoto Manabi+16', 'Terremoto Manabi+17', 'Terremoto Manabi+18', 'Terremoto Manabi+19', 'Terremoto Manabi+2', 'Terremoto Manabi+20', 'Terremoto Manabi+21', 'Terremoto Manabi+22', 'Terremoto Manabi+23', 'Terremoto Manabi+24', 'Terremoto Manabi+25', 'Terremoto Manabi+26', 'Terremoto Manabi+27', 'Terremoto Manabi+28', 'Terremoto Manabi+29', 'Terremoto Manabi+3', 'Terremoto Manabi+30', 'Terremoto Manabi+4', 'Terremoto Manabi+5', 'Terremoto Manabi+6', 'Terremoto Manabi+7', 'Terremoto Manabi+8', 'Terremoto Manabi+9', 'Traslado Batalla de Pichincha', 'Traslado Fundacion de Guayaquil', 'Traslado Fundacion de Quito', 'Traslado Independencia de Guayaquil', 'Traslado Primer Grito de Independencia', 'Traslado Primer dia del ano', 'Viernes Santo']\n"
     ]
    }
   ],
   "source": [
    "# Selecionando as colunas categóricas e exibindo os valores únicos ordenados para cada uma delas\n",
    "categorical_cols = df_holidays_events.select_dtypes(include=[\"object\", \"category\"]).columns\n",
    "for col in categorical_cols:\n",
    "    print(f\"Valores únicos para a coluna {col}:\\n\", sorted(df_holidays_events[col].unique()))"
   ]
  },
  {
   "cell_type": "code",
   "execution_count": 74,
   "id": "1a9c8b35",
   "metadata": {},
   "outputs": [],
   "source": [
    "# TODO Remover\n",
    "\n",
    "# def process_holiday(s):\n",
    "#     if \"futbol\" in s:\n",
    "#         return \"futbol\"\n",
    "#     to_remove = list(set(df_stores.city.str.lower()) | set(df_stores.state.str.lower()))\n",
    "#     for w in to_remove:\n",
    "#         s = s.replace(w, \"\")\n",
    "#     return s\n",
    "\n",
    "\n",
    "# df_holidays_events.description = (\n",
    "#     df_holidays_events.apply(\n",
    "#         lambda x: x.description.lower().replace(x.locale_name.lower(), \"\"),\n",
    "#         axis=1,\n",
    "#     )\n",
    "#     .apply(process_holiday)\n",
    "#     .replace(\n",
    "#         r\"[+-]\\d+|\\b(de|del|traslado|recupero|puente|-)\\b\",\n",
    "#         \"\",\n",
    "#         regex=True,\n",
    "#     )\n",
    "#     .replace(\n",
    "#         r\"\\s+|-\",\n",
    "#         \" \",\n",
    "#         regex=True,\n",
    "#     )\n",
    "#     .str.strip()\n",
    "# )"
   ]
  },
  {
   "cell_type": "code",
   "execution_count": 75,
   "id": "cb31ac07",
   "metadata": {},
   "outputs": [],
   "source": [
    "# df_holidays_events.description = (\n",
    "#     df_holidays_events.apply(\n",
    "#         lambda x: x.description.lower().replace(x.locale_name.lower(), \"\"),\n",
    "#         axis=1,\n",
    "#     )\n",
    "#     .apply(process_holiday)\n",
    "#     .replace(\n",
    "#         r\"[+-]\\d+|\\b(de|del|traslado|recupero|puente|-)\\b\",\n",
    "#         \"\",\n",
    "#         regex=True,\n",
    "#     )\n",
    "#     .replace(\n",
    "#         r\"\\s+|-\",\n",
    "#         \" \",\n",
    "#         regex=True,\n",
    "#     )\n",
    "#     .str.strip()\n",
    "# )"
   ]
  },
  {
   "cell_type": "code",
   "execution_count": 76,
   "id": "1d64b611",
   "metadata": {},
   "outputs": [
    {
     "data": {
      "text/html": [
       "<div>\n",
       "<style scoped>\n",
       "    .dataframe tbody tr th:only-of-type {\n",
       "        vertical-align: middle;\n",
       "    }\n",
       "\n",
       "    .dataframe tbody tr th {\n",
       "        vertical-align: top;\n",
       "    }\n",
       "\n",
       "    .dataframe thead th {\n",
       "        text-align: right;\n",
       "    }\n",
       "</style>\n",
       "<table border=\"1\" class=\"dataframe\">\n",
       "  <thead>\n",
       "    <tr style=\"text-align: right;\">\n",
       "      <th></th>\n",
       "      <th>date</th>\n",
       "      <th>type</th>\n",
       "      <th>locale</th>\n",
       "      <th>locale_name</th>\n",
       "      <th>description</th>\n",
       "      <th>transferred</th>\n",
       "    </tr>\n",
       "  </thead>\n",
       "  <tbody>\n",
       "    <tr>\n",
       "      <th>0</th>\n",
       "      <td>2012-03-02</td>\n",
       "      <td>Holiday</td>\n",
       "      <td>Local</td>\n",
       "      <td>Manta</td>\n",
       "      <td>Fundacion de Manta</td>\n",
       "      <td>False</td>\n",
       "    </tr>\n",
       "    <tr>\n",
       "      <th>1</th>\n",
       "      <td>2012-04-01</td>\n",
       "      <td>Holiday</td>\n",
       "      <td>Regional</td>\n",
       "      <td>Cotopaxi</td>\n",
       "      <td>Provincializacion de Cotopaxi</td>\n",
       "      <td>False</td>\n",
       "    </tr>\n",
       "    <tr>\n",
       "      <th>2</th>\n",
       "      <td>2012-04-12</td>\n",
       "      <td>Holiday</td>\n",
       "      <td>Local</td>\n",
       "      <td>Cuenca</td>\n",
       "      <td>Fundacion de Cuenca</td>\n",
       "      <td>False</td>\n",
       "    </tr>\n",
       "    <tr>\n",
       "      <th>3</th>\n",
       "      <td>2012-04-14</td>\n",
       "      <td>Holiday</td>\n",
       "      <td>Local</td>\n",
       "      <td>Libertad</td>\n",
       "      <td>Cantonizacion de Libertad</td>\n",
       "      <td>False</td>\n",
       "    </tr>\n",
       "    <tr>\n",
       "      <th>4</th>\n",
       "      <td>2012-04-21</td>\n",
       "      <td>Holiday</td>\n",
       "      <td>Local</td>\n",
       "      <td>Riobamba</td>\n",
       "      <td>Cantonizacion de Riobamba</td>\n",
       "      <td>False</td>\n",
       "    </tr>\n",
       "  </tbody>\n",
       "</table>\n",
       "</div>"
      ],
      "text/plain": [
       "        date     type    locale locale_name                    description  \\\n",
       "0 2012-03-02  Holiday     Local       Manta             Fundacion de Manta   \n",
       "1 2012-04-01  Holiday  Regional    Cotopaxi  Provincializacion de Cotopaxi   \n",
       "2 2012-04-12  Holiday     Local      Cuenca            Fundacion de Cuenca   \n",
       "3 2012-04-14  Holiday     Local    Libertad      Cantonizacion de Libertad   \n",
       "4 2012-04-21  Holiday     Local    Riobamba      Cantonizacion de Riobamba   \n",
       "\n",
       "   transferred  \n",
       "0        False  \n",
       "1        False  \n",
       "2        False  \n",
       "3        False  \n",
       "4        False  "
      ]
     },
     "execution_count": 76,
     "metadata": {},
     "output_type": "execute_result"
    }
   ],
   "source": [
    "df_holidays_events.head()"
   ]
  },
  {
   "cell_type": "code",
   "execution_count": 77,
   "id": "1ddc2c04",
   "metadata": {},
   "outputs": [],
   "source": [
    "# Unimos esse dataset a nosso dataset principal\n",
    "df_joined = df_joined.merge(df_holidays_events, on=\"date\", how=\"left\", suffixes=(\"\", \"_holiday\"))\n",
    "\n",
    "# Criamos condições específicas para classificar o tipo de feriado, dependendo se é nacional, regional ou local, com base na comparação da localidade e nome da localidade.\n",
    "# O np.select é utilizado para aplicar essas condições e atribuir o tipo de feriado apropriado à nova coluna 'type_holiday'.\n",
    "cond_national = df_joined[\"locale\"] == \"National\"\n",
    "cond_regional = (df_joined[\"locale\"] == \"Regional\") & (\n",
    "    df_joined[\"locale_name\"] == df_joined[\"state\"]\n",
    ")\n",
    "cond_local = (df_joined[\"locale\"] == \"Local\") & (df_joined[\"locale_name\"] == df_joined[\"city\"])\n",
    "\n",
    "df_joined[\"type_holiday\"] = np.select(\n",
    "    [cond_national, cond_regional, cond_local],\n",
    "    [\n",
    "        df_joined[\"type_holiday\"],\n",
    "        df_joined[\"type_holiday\"],\n",
    "        df_joined[\"type_holiday\"],\n",
    "    ],\n",
    "    default=None,\n",
    ")\n",
    "\n",
    "# Após isso, removemos duplicatas com base no id (datas que em uma mesma localidade houve mais de um feriado), mantemos apenas o primeiro que aparece.\n",
    "df_joined = df_joined.drop_duplicates(subset=\"id\", keep=\"first\").reset_index(drop=True)\n"
   ]
  },
  {
   "cell_type": "markdown",
   "id": "6f17e436",
   "metadata": {},
   "source": [
    "### Transactions Dataset"
   ]
  },
  {
   "cell_type": "code",
   "execution_count": 78,
   "id": "e1e1fb69",
   "metadata": {},
   "outputs": [
    {
     "data": {
      "text/plain": [
       "date            0\n",
       "store_nbr       0\n",
       "transactions    0\n",
       "dtype: int64"
      ]
     },
     "execution_count": 78,
     "metadata": {},
     "output_type": "execute_result"
    }
   ],
   "source": [
    "# Não há valores nulos\n",
    "df_transactions.isna().sum()"
   ]
  },
  {
   "cell_type": "code",
   "execution_count": 79,
   "id": "faa5c166",
   "metadata": {},
   "outputs": [],
   "source": [
    "# Unimos esse dataset a nosso dataset principal\n",
    "df_joined = df_joined.merge(df_transactions, on=[\"date\", \"store_nbr\"], how=\"left\")"
   ]
  },
  {
   "cell_type": "markdown",
   "id": "3cb79dbb",
   "metadata": {},
   "source": [
    "## Feature Engineering"
   ]
  },
  {
   "cell_type": "markdown",
   "id": "3e54f2ea",
   "metadata": {},
   "source": [
    "> Com o dataset resultante da etapa anterior, vamos agora realizar o feature engineering e aplicar quaisquer tratamentos necessários para preparar os dados para o modelo."
   ]
  },
  {
   "cell_type": "markdown",
   "id": "385240af",
   "metadata": {},
   "source": [
    "### Date Features"
   ]
  },
  {
   "cell_type": "code",
   "execution_count": 80,
   "id": "3d1c40b7",
   "metadata": {},
   "outputs": [],
   "source": [
    "# Criamos várias novas features baseadas em informações temporais da coluna 'date'. \n",
    "# Essas features são importantes pois permitem que o modelo capture padrões sazonais, cíclicos e temporais no comportamento dos dados.\n",
    "\n",
    "# Exemplo de features criadas:\n",
    "# - 'year', 'month', 'day': permitem que o modelo compreenda o comportamento por ano, mês e dia.\n",
    "# - 'day_of_week', 'day_name': ajudam a identificar padrões de dias específicos (por exemplo, finais de semana).\n",
    "# - 'is_weekend', 'is_month_start', 'is_month_end': indicam características específicas do calendário, úteis para capturar sazonalidades.\n",
    "\n",
    "\n",
    "df_joined[\"year\"] = df_joined[\"date\"].dt.year\n",
    "df_joined[\"month\"] = df_joined[\"date\"].dt.month\n",
    "df_joined[\"day\"] = df_joined[\"date\"].dt.day\n",
    "df_joined[\"day_of_week\"] = df_joined[\"date\"].dt.weekday\n",
    "df_joined[\"day_name\"] = df_joined[\"date\"].dt.day_name()\n",
    "df_joined[\"month_name\"] = df_joined[\"date\"].dt.month_name()\n",
    "df_joined[\"week\"] = df_joined[\"date\"].dt.isocalendar().week\n",
    "df_joined[\"quarter\"] = df_joined[\"date\"].dt.quarter\n",
    "df_joined[\"day_of_year\"] = df_joined[\"date\"].dt.dayofyear\n",
    "df_joined[\"is_weekend\"] = df_joined[\"day_of_week\"].isin([5, 6]).astype(int)\n",
    "df_joined[\"is_month_start\"] = df_joined[\"date\"].dt.is_month_start.astype(int)\n",
    "df_joined[\"is_month_end\"] = df_joined[\"date\"].dt.is_month_end.astype(int)\n",
    "df_joined[\"is_quarter_start\"] = df_joined[\"date\"].dt.is_quarter_start.astype(int)\n",
    "df_joined[\"is_quarter_end\"] = df_joined[\"date\"].dt.is_quarter_end.astype(int)\n",
    "df_joined[\"is_year_start\"] = df_joined[\"date\"].dt.is_year_start.astype(int)\n",
    "df_joined[\"is_year_end\"] = df_joined[\"date\"].dt.is_year_end.astype(int)"
   ]
  },
  {
   "cell_type": "markdown",
   "id": "5cf6c677",
   "metadata": {},
   "source": [
    "### Target Features"
   ]
  },
  {
   "cell_type": "code",
   "execution_count": null,
   "id": "a5237087",
   "metadata": {},
   "outputs": [],
   "source": [
    "# Criamos features relacionadas ao target (vendas), como:\n",
    "# - Lags (lag_1, lag_2, etc.)\n",
    "# - Estatísticas de vendas (média, máximo, mínimo, desvio padrão) para diferentes janelas temporais (última semana, 2 semanas, mês).\n",
    "# Essas features são importantes para capturar dependências temporais e padrões sazonais nas vendas.\n",
    "# Para evitar \"target leakage\", iniciamos a criação dos lags a partir do lag 16, garantindo que não utilizemos dados futuros do conjunto de teste durante o treinamento.\n",
    "\n",
    "df_target = df_joined[[\"date\", \"unique_id\", \"sales\"]]\n",
    "df_target_features = transform_exog(\n",
    "    df_target,\n",
    "    time_col=\"date\",\n",
    "    lags=[16, 17, 18, 19, 20, 21, 22],\n",
    "    lag_transforms={\n",
    "        16: [\n",
    "            ExpandingMax(),\n",
    "            ExpandingMean(),\n",
    "            ExpandingMin(),\n",
    "            ExpandingStd(),\n",
    "            RollingMax(7),\n",
    "            RollingMin(7),\n",
    "            RollingMean(7),\n",
    "            RollingStd(7),\n",
    "            RollingMax(14),\n",
    "            RollingMin(14),\n",
    "            RollingMean(14),\n",
    "            RollingStd(14),\n",
    "            RollingMean(28),\n",
    "            RollingMax(28),\n",
    "            RollingMin(28),\n",
    "            RollingStd(28),\n",
    "        ]\n",
    "    },\n",
    "    num_threads=16,\n",
    ").drop(\"sales\", axis=1)\n",
    "df_joined = df_joined.merge(df_target_features, on=[\"date\", \"unique_id\"], how=\"left\")"
   ]
  },
  {
   "cell_type": "markdown",
   "id": "2e4ba11b",
   "metadata": {},
   "source": [
    "### Holiday Features"
   ]
  },
  {
   "cell_type": "code",
   "execution_count": 82,
   "id": "485204c4",
   "metadata": {},
   "outputs": [],
   "source": [
    "# De acordo com a especificação da competição no Kaggle, dias em que o feriado foi transferido para outra data devem ser tratados como dias comuns.\n",
    "# Portanto, removemos os feriados transferidos, substituindo o tipo de feriado por None nesses casos.\n",
    "df_joined[\"type_holiday\"] = np.where(\n",
    "    (df_joined[\"type_holiday\"] == \"Holiday\") & (df_joined[\"transferred\"]),\n",
    "    None,\n",
    "    df_joined[\"type_holiday\"],\n",
    ")"
   ]
  },
  {
   "cell_type": "code",
   "execution_count": 83,
   "id": "15b35832",
   "metadata": {},
   "outputs": [],
   "source": [
    "# Por sua vez, adicionamos os dias para os quais foram transferidos como feriados, substituindo o tipo \"Transfer\" por \"Holiday\" na coluna 'type_holiday'.\n",
    "df_joined[\"type_holiday\"] = np.where(\n",
    "    df_joined[\"type_holiday\"] == \"Transfer\",\n",
    "    \"Holiday\",\n",
    "    df_joined[\"type_holiday\"],\n",
    ")"
   ]
  },
  {
   "cell_type": "code",
   "execution_count": 84,
   "id": "efac0e28",
   "metadata": {},
   "outputs": [],
   "source": [
    "# Dias que não possuem um tipo de feriado são dias sem feriados (\"No Holiday\")\n",
    "df_joined[\"type_holiday\"] = df_joined[\"type_holiday\"].fillna(\"No Holiday\")"
   ]
  },
  {
   "cell_type": "code",
   "execution_count": 85,
   "id": "bc7fcc79",
   "metadata": {},
   "outputs": [],
   "source": [
    "# TODO Remover Dummie de feriados\n",
    "# holiday = df_holidays_events[df_holidays_events.transferred.eq(False)]\n",
    "# national_holidays = holiday[holiday.locale.eq(\"National\")]\n",
    "# national_holidays = national_holidays[[\"date\", \"description\"]].reset_index(drop=True)\n",
    "# national_holidays = national_holidays[~national_holidays.duplicated()]\n",
    "# national_holidays = pd.get_dummies(national_holidays, columns=[\"description\"], prefix=\"nat\")\n",
    "# national_holidays = national_holidays.groupby(\"date\").sum().reset_index()\n",
    "# national_holidays = national_holidays.rename(\n",
    "#     columns={\"nat_primer grito independencia\": \"nat_primer grito\"}\n",
    "# )\n",
    "# selected_holidays = [\n",
    "#     \"nat_terremoto\",\n",
    "#     \"nat_navidad\",\n",
    "#     \"nat_dia la madre\",\n",
    "#     \"nat_dia trabajo\",\n",
    "#     \"nat_primer dia ano\",\n",
    "#     \"nat_futbol\",\n",
    "#     \"nat_dia difuntos\",\n",
    "# ]\n",
    "# keep_national_holidays = national_holidays[[\"date\", *selected_holidays]]\n",
    "# df_joined = df_joined.merge(keep_national_holidays, on=\"date\", how=\"left\")\n",
    "# df_joined[selected_holidays] = df_joined[selected_holidays].fillna(0)"
   ]
  },
  {
   "cell_type": "code",
   "execution_count": 86,
   "id": "cd75c334",
   "metadata": {},
   "outputs": [],
   "source": [
    "# TODO Testar com granularidade alta nos tipos de feriados, ou so feriado ou não\n",
    "# def map_holiday(value):\n",
    "#     if value in [\"Work Day\", \"No Holiday\"]:\n",
    "#         return \"No Holiday\"\n",
    "#     else:\n",
    "#         return \"Holiday\"\n",
    "\n",
    "\n",
    "# df_joined[\"type_holiday\"] = df_joined[\"type_holiday\"].apply(map_holiday)\n",
    "\n",
    "df_joined = df_joined.drop([\"locale\", \"locale_name\", \"description\", \"transferred\"], axis=1)"
   ]
  },
  {
   "cell_type": "markdown",
   "id": "8445931c",
   "metadata": {},
   "source": [
    "### Oil Features"
   ]
  },
  {
   "cell_type": "code",
   "execution_count": 87,
   "id": "44c3bda3",
   "metadata": {},
   "outputs": [
    {
     "data": {
      "text/html": [
       "<div>\n",
       "<style scoped>\n",
       "    .dataframe tbody tr th:only-of-type {\n",
       "        vertical-align: middle;\n",
       "    }\n",
       "\n",
       "    .dataframe tbody tr th {\n",
       "        vertical-align: top;\n",
       "    }\n",
       "\n",
       "    .dataframe thead th {\n",
       "        text-align: right;\n",
       "    }\n",
       "</style>\n",
       "<table border=\"1\" class=\"dataframe\">\n",
       "  <thead>\n",
       "    <tr style=\"text-align: right;\">\n",
       "      <th></th>\n",
       "      <th>day_name</th>\n",
       "      <th>dcoilwtico</th>\n",
       "    </tr>\n",
       "  </thead>\n",
       "  <tbody>\n",
       "    <tr>\n",
       "      <th>0</th>\n",
       "      <td>Friday</td>\n",
       "      <td>0</td>\n",
       "    </tr>\n",
       "    <tr>\n",
       "      <th>1</th>\n",
       "      <td>Monday</td>\n",
       "      <td>0</td>\n",
       "    </tr>\n",
       "    <tr>\n",
       "      <th>2</th>\n",
       "      <td>Saturday</td>\n",
       "      <td>433026</td>\n",
       "    </tr>\n",
       "    <tr>\n",
       "      <th>3</th>\n",
       "      <td>Sunday</td>\n",
       "      <td>431244</td>\n",
       "    </tr>\n",
       "    <tr>\n",
       "      <th>4</th>\n",
       "      <td>Thursday</td>\n",
       "      <td>0</td>\n",
       "    </tr>\n",
       "    <tr>\n",
       "      <th>5</th>\n",
       "      <td>Tuesday</td>\n",
       "      <td>1782</td>\n",
       "    </tr>\n",
       "    <tr>\n",
       "      <th>6</th>\n",
       "      <td>Wednesday</td>\n",
       "      <td>0</td>\n",
       "    </tr>\n",
       "  </tbody>\n",
       "</table>\n",
       "</div>"
      ],
      "text/plain": [
       "    day_name  dcoilwtico\n",
       "0     Friday           0\n",
       "1     Monday           0\n",
       "2   Saturday      433026\n",
       "3     Sunday      431244\n",
       "4   Thursday           0\n",
       "5    Tuesday        1782\n",
       "6  Wednesday           0"
      ]
     },
     "execution_count": 87,
     "metadata": {},
     "output_type": "execute_result"
    }
   ],
   "source": [
    "# Após o merge com o dataset final, novos valores nulos aparecem, especialmente nos finais de semana. \n",
    "# Isso pode ser devido à interrupção das flutuações do preço do petróleo no mercado nos fins de semana.\n",
    "df_joined.groupby(\"day_name\")[\"dcoilwtico\"].apply(lambda x: x.isna().sum()).reset_index()"
   ]
  },
  {
   "cell_type": "code",
   "execution_count": 88,
   "id": "201eee6f",
   "metadata": {},
   "outputs": [],
   "source": [
    "# Realizamos o preenchimento dos valores nulos no preço do petróleo ('dcoilwtico') por meio de forward fill (ffill) e backward fill (bfill).\n",
    "# Isso garante que os valores ausentes sejam preenchidos com os valores disponíveis nas observações anteriores (ffill) ou posteriores (bfill),.\n",
    "df_joined[\"dcoilwtico\"] = df_joined.groupby([\"unique_id\"])[\"dcoilwtico\"].ffill().bfill()"
   ]
  },
  {
   "cell_type": "code",
   "execution_count": 89,
   "id": "5b02afca",
   "metadata": {},
   "outputs": [
    {
     "data": {
      "text/html": [
       "<div>\n",
       "<style scoped>\n",
       "    .dataframe tbody tr th:only-of-type {\n",
       "        vertical-align: middle;\n",
       "    }\n",
       "\n",
       "    .dataframe tbody tr th {\n",
       "        vertical-align: top;\n",
       "    }\n",
       "\n",
       "    .dataframe thead th {\n",
       "        text-align: right;\n",
       "    }\n",
       "</style>\n",
       "<table border=\"1\" class=\"dataframe\">\n",
       "  <thead>\n",
       "    <tr style=\"text-align: right;\">\n",
       "      <th></th>\n",
       "      <th>day_name</th>\n",
       "      <th>dcoilwtico</th>\n",
       "    </tr>\n",
       "  </thead>\n",
       "  <tbody>\n",
       "    <tr>\n",
       "      <th>0</th>\n",
       "      <td>Friday</td>\n",
       "      <td>0</td>\n",
       "    </tr>\n",
       "    <tr>\n",
       "      <th>1</th>\n",
       "      <td>Monday</td>\n",
       "      <td>0</td>\n",
       "    </tr>\n",
       "    <tr>\n",
       "      <th>2</th>\n",
       "      <td>Saturday</td>\n",
       "      <td>0</td>\n",
       "    </tr>\n",
       "    <tr>\n",
       "      <th>3</th>\n",
       "      <td>Sunday</td>\n",
       "      <td>0</td>\n",
       "    </tr>\n",
       "    <tr>\n",
       "      <th>4</th>\n",
       "      <td>Thursday</td>\n",
       "      <td>0</td>\n",
       "    </tr>\n",
       "    <tr>\n",
       "      <th>5</th>\n",
       "      <td>Tuesday</td>\n",
       "      <td>0</td>\n",
       "    </tr>\n",
       "    <tr>\n",
       "      <th>6</th>\n",
       "      <td>Wednesday</td>\n",
       "      <td>0</td>\n",
       "    </tr>\n",
       "  </tbody>\n",
       "</table>\n",
       "</div>"
      ],
      "text/plain": [
       "    day_name  dcoilwtico\n",
       "0     Friday           0\n",
       "1     Monday           0\n",
       "2   Saturday           0\n",
       "3     Sunday           0\n",
       "4   Thursday           0\n",
       "5    Tuesday           0\n",
       "6  Wednesday           0"
      ]
     },
     "execution_count": 89,
     "metadata": {},
     "output_type": "execute_result"
    }
   ],
   "source": [
    "# Não há mais valores nulos\n",
    "df_joined.groupby(\"day_name\")[\"dcoilwtico\"].apply(lambda x: x.isna().sum()).reset_index()"
   ]
  },
  {
   "cell_type": "code",
   "execution_count": null,
   "id": "5edef794",
   "metadata": {},
   "outputs": [],
   "source": [
    "# De forma análoga ao que fizemos para as vendas, criamos features temporais para o preço do petróleo ('dcoilwtico'),\n",
    "# como lags (1, 2, 3, 4, 5, 6, 7, 14, 28 dias) e transformações rolling (máximo, mínimo, média, desvio padrão) para diferentes janelas temporais (7, 14, 28 dias).\n",
    "# Essas features ajudam a capturar a dinâmica temporal do preço do petróleo, que pode impactar as vendas e outras variáveis no modelo.\n",
    "df_oil = df_joined[[\"date\", \"unique_id\", \"dcoilwtico\"]]\n",
    "df_oil_features = transform_exog(\n",
    "    df_oil,\n",
    "    time_col=\"date\",\n",
    "    lags=[1, 2, 3, 4, 5, 6, 7],\n",
    "    lag_transforms={\n",
    "        1: [\n",
    "            ExpandingMax(),\n",
    "            ExpandingMean(),\n",
    "            ExpandingMin(),\n",
    "            ExpandingStd(),\n",
    "            RollingMax(7),\n",
    "            RollingMin(7),\n",
    "            RollingMean(7),\n",
    "            RollingStd(7),\n",
    "            RollingMax(14),\n",
    "            RollingMin(14),\n",
    "            RollingMean(14),\n",
    "            RollingStd(14),\n",
    "            RollingMean(28),\n",
    "            RollingMax(28),\n",
    "            RollingMin(28),\n",
    "            RollingStd(28),\n",
    "        ]\n",
    "    },\n",
    "    num_threads=16,\n",
    ").drop(\"dcoilwtico\", axis=1)\n",
    "df_joined = df_joined.merge(df_oil_features, on=[\"date\", \"unique_id\"], how=\"left\")"
   ]
  },
  {
   "cell_type": "markdown",
   "id": "881ff492",
   "metadata": {},
   "source": [
    "### Transactions Features"
   ]
  },
  {
   "cell_type": "code",
   "execution_count": 91,
   "id": "fed883e0",
   "metadata": {},
   "outputs": [
    {
     "data": {
      "text/html": [
       "<div>\n",
       "<style scoped>\n",
       "    .dataframe tbody tr th:only-of-type {\n",
       "        vertical-align: middle;\n",
       "    }\n",
       "\n",
       "    .dataframe tbody tr th {\n",
       "        vertical-align: top;\n",
       "    }\n",
       "\n",
       "    .dataframe thead th {\n",
       "        text-align: right;\n",
       "    }\n",
       "</style>\n",
       "<table border=\"1\" class=\"dataframe\">\n",
       "  <thead>\n",
       "    <tr style=\"text-align: right;\">\n",
       "      <th></th>\n",
       "      <th>sales</th>\n",
       "      <th>count</th>\n",
       "    </tr>\n",
       "  </thead>\n",
       "  <tbody>\n",
       "    <tr>\n",
       "      <th>0</th>\n",
       "      <td>0.0</td>\n",
       "      <td>242536</td>\n",
       "    </tr>\n",
       "    <tr>\n",
       "      <th>1</th>\n",
       "      <td>1.0</td>\n",
       "      <td>160</td>\n",
       "    </tr>\n",
       "    <tr>\n",
       "      <th>2</th>\n",
       "      <td>2.0</td>\n",
       "      <td>146</td>\n",
       "    </tr>\n",
       "    <tr>\n",
       "      <th>3</th>\n",
       "      <td>3.0</td>\n",
       "      <td>103</td>\n",
       "    </tr>\n",
       "    <tr>\n",
       "      <th>4</th>\n",
       "      <td>4.0</td>\n",
       "      <td>83</td>\n",
       "    </tr>\n",
       "  </tbody>\n",
       "</table>\n",
       "</div>"
      ],
      "text/plain": [
       "   sales   count\n",
       "0    0.0  242536\n",
       "1    1.0     160\n",
       "2    2.0     146\n",
       "3    3.0     103\n",
       "4    4.0      83"
      ]
     },
     "execution_count": 91,
     "metadata": {},
     "output_type": "execute_result"
    }
   ],
   "source": [
    "# Após o merge, verificamos que novos valores nulos aparecem na coluna de transações das lojas.\n",
    "# Esses valores nulos ocorrem principalmente em casos onde não há vendas (sales == 0) para a loja, o que leva à falta de dados de transação.\n",
    "df_joined[[\"date\", \"store_nbr\", \"family\", \"sales\", \"transactions\"]].query(\"transactions.isna()\")[\n",
    "    \"sales\"\n",
    "].value_counts().reset_index().head()"
   ]
  },
  {
   "cell_type": "code",
   "execution_count": 92,
   "id": "5b18a94a",
   "metadata": {},
   "outputs": [],
   "source": [
    "# Para os casos em que não há vendas, preenchemos os valores de transação para também 0\n",
    "df_joined.loc[df_joined[\"sales\"] == 0, \"transactions\"] = df_joined.loc[\n",
    "    df_joined[\"sales\"] == 0, \"transactions\"\n",
    "].fillna(0)"
   ]
  },
  {
   "cell_type": "code",
   "execution_count": 93,
   "id": "ea124cd0",
   "metadata": {},
   "outputs": [
    {
     "data": {
      "text/html": [
       "<div>\n",
       "<style scoped>\n",
       "    .dataframe tbody tr th:only-of-type {\n",
       "        vertical-align: middle;\n",
       "    }\n",
       "\n",
       "    .dataframe tbody tr th {\n",
       "        vertical-align: top;\n",
       "    }\n",
       "\n",
       "    .dataframe thead th {\n",
       "        text-align: right;\n",
       "    }\n",
       "</style>\n",
       "<table border=\"1\" class=\"dataframe\">\n",
       "  <thead>\n",
       "    <tr style=\"text-align: right;\">\n",
       "      <th></th>\n",
       "      <th>sales</th>\n",
       "      <th>count</th>\n",
       "    </tr>\n",
       "  </thead>\n",
       "  <tbody>\n",
       "    <tr>\n",
       "      <th>0</th>\n",
       "      <td>1.0</td>\n",
       "      <td>160</td>\n",
       "    </tr>\n",
       "    <tr>\n",
       "      <th>1</th>\n",
       "      <td>2.0</td>\n",
       "      <td>146</td>\n",
       "    </tr>\n",
       "    <tr>\n",
       "      <th>2</th>\n",
       "      <td>3.0</td>\n",
       "      <td>103</td>\n",
       "    </tr>\n",
       "    <tr>\n",
       "      <th>3</th>\n",
       "      <td>4.0</td>\n",
       "      <td>83</td>\n",
       "    </tr>\n",
       "    <tr>\n",
       "      <th>4</th>\n",
       "      <td>6.0</td>\n",
       "      <td>82</td>\n",
       "    </tr>\n",
       "  </tbody>\n",
       "</table>\n",
       "</div>"
      ],
      "text/plain": [
       "   sales  count\n",
       "0    1.0    160\n",
       "1    2.0    146\n",
       "2    3.0    103\n",
       "3    4.0     83\n",
       "4    6.0     82"
      ]
     },
     "execution_count": 93,
     "metadata": {},
     "output_type": "execute_result"
    }
   ],
   "source": [
    "# Diminuição significativa dos valores nulos\n",
    "df_joined[[\"date\", \"store_nbr\", \"family\", \"sales\", \"transactions\"]].query(\"transactions.isna()\")[\n",
    "    \"sales\"\n",
    "].value_counts().reset_index().head()"
   ]
  },
  {
   "cell_type": "code",
   "execution_count": 94,
   "id": "8bb44ffa",
   "metadata": {},
   "outputs": [],
   "source": [
    "# Para os casos restantes, preenchemos os valores nulos na coluna de transações utilizando interpolação linear dentro de cada série temporal ('unique_id').\n",
    "# Isso ajuda a suavizar as lacunas nos dados de transações, preservando a continuidade das séries temporais.\n",
    "df_joined[\"transactions\"] = df_joined.groupby(\"unique_id\")[\"transactions\"].transform(\n",
    "    lambda group: group.interpolate(method=\"linear\")\n",
    ")"
   ]
  },
  {
   "cell_type": "code",
   "execution_count": 95,
   "id": "d1cf83bb",
   "metadata": {},
   "outputs": [
    {
     "data": {
      "text/html": [
       "<div>\n",
       "<style scoped>\n",
       "    .dataframe tbody tr th:only-of-type {\n",
       "        vertical-align: middle;\n",
       "    }\n",
       "\n",
       "    .dataframe tbody tr th {\n",
       "        vertical-align: top;\n",
       "    }\n",
       "\n",
       "    .dataframe thead th {\n",
       "        text-align: right;\n",
       "    }\n",
       "</style>\n",
       "<table border=\"1\" class=\"dataframe\">\n",
       "  <thead>\n",
       "    <tr style=\"text-align: right;\">\n",
       "      <th></th>\n",
       "      <th>sales</th>\n",
       "      <th>count</th>\n",
       "    </tr>\n",
       "  </thead>\n",
       "  <tbody>\n",
       "  </tbody>\n",
       "</table>\n",
       "</div>"
      ],
      "text/plain": [
       "Empty DataFrame\n",
       "Columns: [sales, count]\n",
       "Index: []"
      ]
     },
     "execution_count": 95,
     "metadata": {},
     "output_type": "execute_result"
    }
   ],
   "source": [
    "# Não há mais valores nulos\n",
    "df_joined[[\"date\", \"store_nbr\", \"family\", \"sales\", \"transactions\"]].query(\"transactions.isna()\")[\n",
    "    \"sales\"\n",
    "].value_counts().reset_index().head()"
   ]
  },
  {
   "cell_type": "code",
   "execution_count": null,
   "id": "69f0f8d1",
   "metadata": {},
   "outputs": [],
   "source": [
    "# Criamos features temporais para o número de transações ('transactions'), incluindo lags (1, 2, 3, 4, 5, 6, 7, 14, 28, 60 dias)\n",
    "# e transformações rolling e expanding (média, máximo, mínimo, desvio padrão) para diferentes janelas temporais (7, 14, 28 dias).\n",
    "# Essas features ajudam a capturar padrões temporais e flutuações nas transações, fornecendo informações valiosas para a modelagem.\n",
    "df_transactions = df_joined[[\"date\", \"unique_id\", \"transactions\"]]\n",
    "df_transactions_features = transform_exog(\n",
    "    df_transactions,\n",
    "    time_col=\"date\",\n",
    "    lags=[1, 2, 3, 4, 5, 6, 7],\n",
    "    lag_transforms={\n",
    "        1: [\n",
    "            ExpandingMax(),\n",
    "            ExpandingMean(),\n",
    "            ExpandingMin(),\n",
    "            ExpandingStd(),\n",
    "            RollingMax(7),\n",
    "            RollingMin(7),\n",
    "            RollingMean(7),\n",
    "            RollingStd(7),\n",
    "            RollingMax(14),\n",
    "            RollingMin(14),\n",
    "            RollingMean(14),\n",
    "            RollingStd(14),\n",
    "            RollingMean(28),\n",
    "            RollingMax(28),\n",
    "            RollingMin(28),\n",
    "            RollingStd(28),\n",
    "        ]\n",
    "    },\n",
    "    num_threads=16,\n",
    ").drop(\"transactions\", axis=1)\n",
    "df_joined = df_joined.merge(df_transactions_features, on=[\"date\", \"unique_id\"], how=\"left\")"
   ]
  },
  {
   "cell_type": "markdown",
   "id": "8df5c590",
   "metadata": {},
   "source": [
    "### Onpromotion Features"
   ]
  },
  {
   "cell_type": "code",
   "execution_count": null,
   "id": "58599be6",
   "metadata": {},
   "outputs": [],
   "source": [
    "# Criamos features temporais para a variável 'onpromotion', incluindo lags (1, 2, 3, 4, 5, 6, 7 dias) \n",
    "# e transformações rolling e expanding (máximo, média, mínimo, desvio padrão) para janelas temporais de 7, 14 e 28 dias.\n",
    "# Essas features ajudam a capturar padrões e efeitos das promoções ao longo do tempo, fornecendo insights importantes para a modelagem.\n",
    "df_onpromotion = df_joined[[\"date\", \"unique_id\", \"onpromotion\"]]\n",
    "df_onpromotion = transform_exog(\n",
    "    df=df_onpromotion,\n",
    "    time_col='date',\n",
    "    lags=[1,2,3,4,5,6,7],\n",
    "    lag_transforms={\n",
    "        1: [\n",
    "            ExpandingMax(),\n",
    "            ExpandingMean(),\n",
    "            ExpandingMin(),\n",
    "            ExpandingStd(),\n",
    "            RollingMax(7),\n",
    "            RollingMin(7),\n",
    "            RollingMean(7),\n",
    "            RollingStd(7),\n",
    "            RollingMax(14),\n",
    "            RollingMin(14),\n",
    "            RollingMean(14),\n",
    "            RollingStd(14),\n",
    "            RollingMean(28),\n",
    "            RollingMax(28),\n",
    "            RollingMin(28),\n",
    "            RollingStd(28),\n",
    "        ]\n",
    "    },\n",
    ")"
   ]
  },
  {
   "cell_type": "code",
   "execution_count": 98,
   "id": "5122554f",
   "metadata": {},
   "outputs": [],
   "source": [
    "# # Criamos a coluna 'date_with_promotion' para registrar a data da promoção, onde o valor de 'onpromotion' é maior que 0.\n",
    "# df_onpromotion[\"date_with_promotion\"] = df_onpromotion[\"date\"].where(\n",
    "#     df_onpromotion[\"onpromotion\"] > 0, None\n",
    "# )\n",
    "\n",
    "# # Preenchemos as lacunas na coluna 'date_with_promotion' com o 'ffill', propagando a última data de promoção disponível.\n",
    "# df_onpromotion[\"date_with_promotion2\"] = df_onpromotion.groupby(\"unique_id\")[\n",
    "#     \"date_with_promotion\"\n",
    "# ].ffill()\n",
    "\n",
    "# # Criamos a coluna 'date_with_promotion3', que contém a data da promoção anterior, utilizando a função 'shift'.\n",
    "# df_onpromotion[\"date_with_promotion3\"] = df_onpromotion.groupby(\"unique_id\")[\n",
    "#     \"date_with_promotion2\"\n",
    "# ].shift()\n",
    "\n",
    "# # Calculamos a diferença entre a data atual e a última promoção, criando a coluna 'days_since_last_promotion' para capturar o intervalo em dias.\n",
    "# df_onpromotion[\"days_since_last_promotion\"] = (\n",
    "#     df_onpromotion[\"date\"] - df_onpromotion[\"date_with_promotion3\"]\n",
    "# ).dt.days\n",
    "\n",
    "# # Removemos as colunas auxiliares utilizadas para criar as features temporais relacionadas a promoções.\n",
    "# df_onpromotion = df_onpromotion.drop(\n",
    "#     [\"onpromotion\", \"date_with_promotion\", \"date_with_promotion2\", \"date_with_promotion3\"], axis=1\n",
    "# )\n",
    "\n",
    "# # Fazemos o merge do dataset de promoções com o dataset final, mantendo a informação das promoções para cada loja.\n",
    "# df_joined = df_joined.merge(df_onpromotion, on=[\"date\", \"unique_id\"], how=\"left\")\n"
   ]
  },
  {
   "cell_type": "markdown",
   "id": "570dab5c",
   "metadata": {},
   "source": [
    "### Payday Features"
   ]
  },
  {
   "cell_type": "code",
   "execution_count": 99,
   "id": "d5200628",
   "metadata": {},
   "outputs": [],
   "source": [
    "# Foi informado que no Ecuador, os salários do setor público são pagos todo dia 15 e no último dia do mês, o que pode impactar as vendas dos supermercados. \n",
    "# Criamos features que identificam essas datas, pois elas têm um impacto direto no comportamento dos consumidores. \n",
    "# As transações podem ser influenciadas por esses eventos, e as features geradas ajudam a capturar padrões temporais importantes. \n",
    "# Além disso, ao calcular a proximidade desses dias (dias até o próximo pagamento e dias desde o último pagamento), conseguimos capturar efeitos de curto prazo nas vendas, \n",
    "# o que pode melhorar a precisão das previsões do modelo.\n",
    "\n",
    "\n",
    "def next_payday(date):\n",
    "    fifteenth = date.replace(day=15)\n",
    "    last_day = date + pd.offsets.MonthEnd(0)\n",
    "    candidates = [f for f in [fifteenth, last_day] if f >= date]\n",
    "\n",
    "    if not candidates:\n",
    "        next_fifteenth = (date + pd.offsets.MonthBegin(1)).replace(day=15)\n",
    "        return (next_fifteenth - date).days\n",
    "    return (min(candidates) - date).days\n",
    "\n",
    "def prev_payday(date):\n",
    "    fifteenth = date.replace(day=15)\n",
    "    last_day = date + pd.offsets.MonthEnd(0)\n",
    "    candidates = [d for d in [fifteenth, last_day] if d <= date]\n",
    "\n",
    "    if not candidates:\n",
    "        prev_last = date - pd.offsets.MonthEnd(1)\n",
    "        return (date - prev_last).days\n",
    "    return (date - max(candidates)).days\n",
    "\n",
    "df_payday = df_joined[[\"date\"]].drop_duplicates()\n",
    "df_payday[\"is_payday\"] = df_payday[\"date\"].dt.day.isin([15]) | (\n",
    "    df_payday[\"date\"] == df_payday[\"date\"] + pd.offsets.MonthEnd(0)\n",
    ")\n",
    "\n",
    "df_payday[\"days_to_next_payday\"] = df_payday[\"date\"].apply(next_payday)\n",
    "df_payday[\"days_since_last_payday\"] = df_payday[\"date\"].apply(prev_payday)\n",
    "df_payday[\"in_pay_window\"] = df_payday[\"days_to_next_payday\"].between(0, 7) | df_payday[\n",
    "    \"days_since_last_payday\"\n",
    "].between(0, 7)\n",
    "\n",
    "df_joined = df_joined.merge(df_payday, on=[\"date\"], how=\"left\")"
   ]
  },
  {
   "cell_type": "markdown",
   "id": "2caf3bb5",
   "metadata": {},
   "source": [
    "### Earthquake Features"
   ]
  },
  {
   "cell_type": "code",
   "execution_count": 100,
   "id": "954e37cb",
   "metadata": {},
   "outputs": [],
   "source": [
    "# Foi informado que um terremoto de magnitude 7.8 atingiu o Ecuador em 16 de abril de 2016, o que causou um aumento nas vendas de supermercados nas semanas seguintes devido aos esforços de ajuda e doações.\n",
    "# Criamos features relacionadas ao terremoto para capturar o impacto nas vendas:\n",
    "# - Dias até o terremoto e dias após o terremoto, para identificar como as vendas se comportam antes e depois do evento.\n",
    "# - Variáveis como semanas e anos até o terremoto, e um indicador de impacto imediato (-14 a +14 dias após o evento) para identificar possíveis efeitos de curto prazo.\n",
    "# Essas features ajudam a modelar a mudança no comportamento do consumidor devido ao evento e podem melhorar a precisão das previsões \n",
    "# ao capturar padrões causados por choques externos como desastres naturais.\n",
    "\n",
    "df_earthquake = df_joined[[\"date\"]].drop_duplicates()\n",
    "df_earthquake[\"earthquake_date\"] = pd.Timestamp(\"2016-04-16\")\n",
    "\n",
    "df_earthquake[\"days_to_earthquake\"] = (\n",
    "    df_earthquake[\"earthquake_date\"] - df_earthquake[\"date\"]\n",
    ").dt.days\n",
    "\n",
    "df_earthquake[\"abs_days_to_earthquake\"] = df_earthquake[\"days_to_earthquake\"].abs()\n",
    "df_earthquake[\"weeks_to_earthquake\"] = (df_earthquake[\"days_to_earthquake\"] / 7).astype(int)\n",
    "df_earthquake[\"earthquake_happened\"] = df_earthquake[\"date\"] >= df_earthquake[\"earthquake_date\"]\n",
    "df_earthquake[\"days_before_earthquake\"] = df_earthquake[\"days_to_earthquake\"].clip(upper=0).abs()\n",
    "df_earthquake[\"days_after_earthquake\"] = df_earthquake[\"days_to_earthquake\"].clip(lower=0)\n",
    "df_earthquake[\"years_to_earthquake\"] = df_earthquake[\"days_to_earthquake\"] / 365.25\n",
    "df_earthquake[\"in_impact_window\"] = df_earthquake[\"days_to_earthquake\"].between(-14, 14)\n",
    "\n",
    "df_earthquake = df_earthquake[\n",
    "    [\n",
    "        \"date\",\n",
    "        \"days_to_earthquake\",\n",
    "        \"weeks_to_earthquake\",\n",
    "        \"years_to_earthquake\",\n",
    "        \"abs_days_to_earthquake\",\n",
    "        \"days_before_earthquake\",\n",
    "        \"days_after_earthquake\",\n",
    "        \"earthquake_happened\",\n",
    "        \"in_impact_window\",\n",
    "    ]\n",
    "]\n",
    "\n",
    "df_joined = df_joined.merge(df_earthquake, on=[\"date\"], how=\"left\")"
   ]
  },
  {
   "cell_type": "markdown",
   "id": "493632e5",
   "metadata": {},
   "source": [
    "### Reduce Memory Usage"
   ]
  },
  {
   "cell_type": "code",
   "execution_count": 101,
   "id": "91ae31e9",
   "metadata": {},
   "outputs": [],
   "source": [
    "# Função para reduzir o uso de memória do DataFrame, \"downcasting\" os tipos de dados\n",
    "# - Para colunas de inteiros, converte para o tipo de inteiro mais eficiente (signed).\n",
    "# - Para colunas de floats, converte para o tipo de float mais eficiente.\n",
    "# - Para colunas de objetos (strings), converte para o tipo \"category\", economizando memória.\n",
    "# - A coluna \"date\" é convertida para tipo datetime, se não for já.\n",
    "# A função calcula a economia de memória antes e depois do downcasting, retornando o DataFrame otimizado.\n",
    "\n",
    "def downcast(df: pd.DataFrame) -> pd.DataFrame:\n",
    "    memory_before = df.memory_usage(deep=True).sum() / 1024**2\n",
    "    print(f\"Memory usage before downcast: {memory_before:.2f} MB\")\n",
    "\n",
    "    for col in df.columns:\n",
    "        col_type = df[col].dtype\n",
    "\n",
    "        if pd.api.types.is_integer_dtype(col_type):\n",
    "            df[col] = pd.to_numeric(df[col], downcast=\"signed\")\n",
    "        elif pd.api.types.is_float_dtype(col_type):\n",
    "            df[col] = pd.to_numeric(df[col], downcast=\"float\")\n",
    "        elif pd.api.types.is_object_dtype(col_type):\n",
    "            if col.lower() == \"date\":\n",
    "                try:\n",
    "                    df[col] = pd.to_datetime(df[col], format=\"%Y-%m-%d\")\n",
    "                except:\n",
    "                    df[col] = pd.to_datetime(df[col], errors=\"coerce\")\n",
    "            else:\n",
    "                df[col] = df[col].astype(\"category\")\n",
    "\n",
    "    memory_after = df.memory_usage(deep=True).sum() / 1024**2\n",
    "    print(f\"Memory usage after downcast: {memory_after:.2f} MB\")\n",
    "    print(f\"Downcasting Efficiency: {(1 - (memory_after / memory_before)) * 100:.2f}%\")\n",
    "\n",
    "    return df"
   ]
  },
  {
   "cell_type": "code",
   "execution_count": 102,
   "id": "bb106918",
   "metadata": {},
   "outputs": [
    {
     "name": "stdout",
     "output_type": "stream",
     "text": [
      "Memory usage before downcast: 3658.79 MB\n",
      "Memory usage after downcast: 1265.42 MB\n",
      "Downcasting Efficiency: 65.41%\n"
     ]
    }
   ],
   "source": [
    "df_joined = downcast(df_joined)"
   ]
  },
  {
   "cell_type": "markdown",
   "id": "607e1475",
   "metadata": {},
   "source": [
    "### Train-Test Split"
   ]
  },
  {
   "cell_type": "code",
   "execution_count": 103,
   "id": "6a1f56a4",
   "metadata": {},
   "outputs": [],
   "source": [
    "# Dividimos o DataFrame em conjunto de treino e teste com base nas datas\n",
    "# O conjunto de treino é composto pelos dados de 2013-01-01 até 2017-08-15, enquanto o conjunto de teste começa em 2017-08-16.\n",
    "df_train = df_joined.query('date >= \"2013-01-01\" and date < \"2017-08-16\"')\n",
    "df_test = df_joined.query('date >= \"2017-08-16\"')"
   ]
  },
  {
   "cell_type": "code",
   "execution_count": 104,
   "id": "34642e7e",
   "metadata": {},
   "outputs": [],
   "source": [
    "# Removemos as linhas com valores nulos do conjunto de treino para garantir que o modelo seja treinado apenas com dados completos.\n",
    "df_train = df_train.dropna()"
   ]
  },
  {
   "cell_type": "markdown",
   "id": "51da2ccb",
   "metadata": {},
   "source": [
    "### Saving Datasets"
   ]
  },
  {
   "cell_type": "code",
   "execution_count": 40,
   "id": "c90c9afa",
   "metadata": {},
   "outputs": [],
   "source": [
    "def save_datasets(df=None, df_train=None, df_test=None, append_name=\"\"):\n",
    "    if df is not None:\n",
    "        df.to_pickle(base_folder + save_folder + f\"complete_dataset_{append_name}.pkl\")\n",
    "    if df_train is not None:\n",
    "        df_train.to_pickle(base_folder + save_folder + f\"train_{append_name}.pkl\")\n",
    "    if df_test is not None:\n",
    "        df_test.to_pickle(base_folder + save_folder + f\"test_{append_name}.pkl\")"
   ]
  },
  {
   "cell_type": "code",
   "execution_count": null,
   "id": "e8314c23",
   "metadata": {},
   "outputs": [],
   "source": [
    "# Salvamos os datasets processados em arquivos `.pkl` para facilitar o carregamento e reutilização posterior sem a necessidade de recomputar todo o processo.\n",
    "# O dataset completo é salvo, assim como os conjuntos de treino e teste para análise e modelagem.\n",
    "save_datasets(df=df_joined, df_train=df_train, df_test=df_test, append_name=\"raw\")"
   ]
  },
  {
   "cell_type": "markdown",
   "id": "4df3c4e3",
   "metadata": {},
   "source": [
    "## Model"
   ]
  },
  {
   "cell_type": "markdown",
   "id": "56fe4415",
   "metadata": {},
   "source": [
    "### Reading Preprocessed Datasets"
   ]
  },
  {
   "cell_type": "code",
   "execution_count": 41,
   "id": "20a4152a",
   "metadata": {},
   "outputs": [],
   "source": [
    "# Função para ler os datasets processados a partir dos arquivos `.pkl`.\n",
    "# Ela carrega o dataset completo, o conjunto de treino e o conjunto de teste, permitindo o acesso a essas versões pré-processadas de forma eficiente.\n",
    "def read_datasets(appended_name, read_df=False, read_train=True, read_test=True):\n",
    "    df, df_train, df_test = None, None, None\n",
    "    if read_df:\n",
    "        df = pd.read_pickle(base_folder + save_folder + f\"complete_dataset_{appended_name}.pkl\")\n",
    "    if read_train:\n",
    "        df_train = pd.read_pickle(base_folder + save_folder + f\"train_{appended_name}.pkl\")\n",
    "    if read_test:\n",
    "        df_test = pd.read_pickle(base_folder + save_folder + f\"test_{appended_name}.pkl\")\n",
    "\n",
    "    # Definimos as colunas que serão usadas no treinamento, excluindo a coluna alvo (\"sales\") \n",
    "    # e outras colunas irrelevantes como \"id\", \"unique_id\", e \"date\".\n",
    "    # A lista 'train_cols' contém apenas as colunas que serão utilizadas como features no modelo.\n",
    "    target_col = \"sales\"\n",
    "    drop_cols = [\"id\", \"sales\", \"unique_id\", \"date\"]\n",
    "    train_cols = [col for col in df_train.columns if col not in drop_cols]\n",
    "\n",
    "    return df, df_train, df_test, train_cols, target_col"
   ]
  },
  {
   "cell_type": "code",
   "execution_count": 42,
   "id": "4037ba0a",
   "metadata": {},
   "outputs": [],
   "source": [
    "_, train_df ,test_df, train_cols, target_col = read_datasets(\"raw\")"
   ]
  },
  {
   "cell_type": "markdown",
   "id": "4a716cd5",
   "metadata": {},
   "source": [
    "### Columns Transform"
   ]
  },
  {
   "cell_type": "markdown",
   "id": "48a8200c",
   "metadata": {},
   "source": [
    "#### Target Encoding"
   ]
  },
  {
   "cell_type": "code",
   "execution_count": 46,
   "id": "a7741961",
   "metadata": {},
   "outputs": [],
   "source": [
    "# Realizamos target encoding para todas as colunas categóricas.\n",
    "# Essa técnica substitui categorias por médias da variável alvo (sales),\n",
    "# ajudando o modelo a capturar padrões úteis sem inflar o número de features.\n",
    "\n",
    "# Evitamos vazamento de informação (data leak) ao calcular as médias\n",
    "# apenas com os dados de treino (df_train), e depois aplicamos esse mapeamento\n",
    "# aos dados de teste (df_test). Isso garante que o modelo não \"veja\" o target\n",
    "# do teste durante o pré-processamento.\n",
    "\n",
    "def target_encode(train, test, cat_col, target_col, smooth=10):\n",
    "    global_mean = train[target_col].mean()\n",
    "    agg = train.groupby(cat_col, observed=False)[target_col].agg(['mean', 'count'])\n",
    "    agg['smooth'] = (agg['mean'] * agg['count'] + global_mean * smooth) / (agg['count'] + smooth)\n",
    "    encoding_map = agg['smooth']\n",
    "    train[cat_col] = train[cat_col].astype(str)\n",
    "    test[cat_col] = test[cat_col].astype(str)\n",
    "    train_encoded = train[cat_col].map(encoding_map).fillna(global_mean)\n",
    "    test_encoded = test[cat_col].map(encoding_map).fillna(global_mean)\n",
    "    return train_encoded, test_encoded\n",
    "\n",
    "# Lista de colunas categóricas\n",
    "categorical_cols = list(train_df.select_dtypes(include=[\"category\", \"object\"]).columns)\n",
    "\n",
    "# Aplica target encoding para cada coluna categórica com base apenas no treino\n",
    "for categorical_col in categorical_cols:\n",
    "    train_df[categorical_col], test_df[categorical_col] = target_encode(\n",
    "        train_df, test_df,\n",
    "        cat_col=categorical_col,\n",
    "        target_col='sales',\n",
    "        smooth=0\n",
    "    )"
   ]
  },
  {
   "cell_type": "markdown",
   "id": "b976fbef",
   "metadata": {},
   "source": [
    "#### Standard Scaler"
   ]
  },
  {
   "cell_type": "code",
   "execution_count": 9,
   "id": "a6687c02",
   "metadata": {},
   "outputs": [
    {
     "ename": "",
     "evalue": "",
     "output_type": "error",
     "traceback": [
      "\u001b[1;31mThe Kernel crashed while executing code in the current cell or a previous cell. \n",
      "\u001b[1;31mPlease review the code in the cell(s) to identify a possible cause of the failure. \n",
      "\u001b[1;31mClick <a href='https://aka.ms/vscodeJupyterKernelCrash'>here</a> for more info. \n",
      "\u001b[1;31mView Jupyter <a href='command:jupyter.viewOutput'>log</a> for further details."
     ]
    }
   ],
   "source": [
    "from sklearn.preprocessing import StandardScaler\n",
    "\n",
    "# Selecionamos as colunas numéricas do conjunto de treino com base nas colunas usadas como input do modelo\n",
    "numerical_cols = list(train_df[train_cols].select_dtypes(include=[\"number\"]).columns)\n",
    "\n",
    "# Escalonamos as features numéricas para que tenham média 0 e desvio padrão 1.\n",
    "scaler = StandardScaler()\n",
    "\n",
    "# Isso evita vazamento de informação (data leakage), garantindo que o modelo não \"aprenda\"\n",
    "# estatísticas (como média e desvio) a partir do conjunto de teste.\n",
    "train_df[numerical_cols] = scaler.fit_transform(train_df[numerical_cols])\n",
    "test_df[numerical_cols] = scaler.transform(test_df[numerical_cols])"
   ]
  },
  {
   "cell_type": "markdown",
   "id": "1d439a4d",
   "metadata": {},
   "source": [
    "#### Min Max Scaler"
   ]
  },
  {
   "cell_type": "code",
   "execution_count": null,
   "id": "c5f82db5",
   "metadata": {},
   "outputs": [],
   "source": [
    "from sklearn.preprocessing import MinMaxScaler\n",
    "\n",
    "# Selecionamos as colunas numéricas do conjunto de treino com base nas colunas usadas como input do modelo\n",
    "numerical_cols = list(train_df[train_cols].select_dtypes(include=[\"number\"]).columns)\n",
    "\n",
    "# Escalonamos as features numéricas para o intervalo [0, 1], utilizando o MinMaxScaler.\n",
    "scaler = MinMaxScaler()\n",
    "\n",
    "# Ajustamos o scaler apenas nos dados de treino, o que evita vazamento de informação (data leakage).\n",
    "# Isso garante que o modelo não aprenda valores mínimos e máximos a partir do conjunto de teste.\n",
    "train_df[numerical_cols] = scaler.fit_transform(train_df[numerical_cols])\n",
    "\n",
    "# Aplicamos a transformação nos dados de teste com os mesmos limites definidos no treino.\n",
    "test_df[numerical_cols] = scaler.transform(test_df[numerical_cols])"
   ]
  },
  {
   "cell_type": "markdown",
   "id": "9ca6d924",
   "metadata": {},
   "source": [
    "#### Robust Scaler"
   ]
  },
  {
   "cell_type": "code",
   "execution_count": 10,
   "id": "9f7e8688",
   "metadata": {},
   "outputs": [
    {
     "ename": "",
     "evalue": "",
     "output_type": "error",
     "traceback": [
      "\u001b[1;31mThe Kernel crashed while executing code in the current cell or a previous cell. \n",
      "\u001b[1;31mPlease review the code in the cell(s) to identify a possible cause of the failure. \n",
      "\u001b[1;31mClick <a href='https://aka.ms/vscodeJupyterKernelCrash'>here</a> for more info. \n",
      "\u001b[1;31mView Jupyter <a href='command:jupyter.viewOutput'>log</a> for further details."
     ]
    }
   ],
   "source": [
    "from sklearn.preprocessing import RobustScaler\n",
    "\n",
    "# Selecionamos as colunas numéricas do conjunto de treino com base nas colunas usadas como input do modelo\n",
    "numerical_cols = list(train_df[train_cols].select_dtypes(include=[\"number\"]).columns)\n",
    "\n",
    "# Usamos o RobustScaler, que escala os dados com base na mediana e no intervalo interquartil (IQR),\n",
    "# tornando-o mais robusto a outliers em comparação com outros scalers como StandardScaler ou MinMaxScaler.\n",
    "scaler = RobustScaler()\n",
    "\n",
    "# Ajustamos o scaler apenas nos dados de treino para evitar vazamento de informação (data leakage),\n",
    "# garantindo que o modelo não utilize estatísticas do conjunto de teste.\n",
    "train_df[numerical_cols] = scaler.fit_transform(train_df[numerical_cols])\n",
    "\n",
    "# Aplicamos a mesma transformação ao conjunto de teste usando os parâmetros ajustados no treino.\n",
    "test_df[numerical_cols] = scaler.transform(test_df[numerical_cols])"
   ]
  },
  {
   "cell_type": "markdown",
   "id": "ea56b158",
   "metadata": {},
   "source": [
    "#### OneHot Encoding"
   ]
  },
  {
   "cell_type": "code",
   "execution_count": null,
   "id": "33f75c6a",
   "metadata": {},
   "outputs": [
    {
     "data": {
      "text/plain": [
       "['family', 'city', 'state', 'type', 'type_holiday', 'day_name', 'month_name']"
      ]
     },
     "execution_count": 80,
     "metadata": {},
     "output_type": "execute_result"
    }
   ],
   "source": [
    "# # TODO Remover\n",
    "# from sklearn.preprocessing import OneHotEncoder\n",
    "\n",
    "# categorical_cols = list(train_df[train_cols].select_dtypes(include=[\"category\", \"object\"]).columns)\n",
    "# categorical_cols\n",
    "# encoder = OneHotEncoder(sparse_output=False, drop=\"first\")\n",
    "# encoded_columns = encoder.fit_transform(train_df[categorical_cols])\n",
    "# encoded_df = pd.DataFrame(encoded_columns, columns=encoder.get_feature_names_out(categorical_cols))\n",
    "# train_df_encoded = pd.concat([train_df.drop(columns=categorical_cols), encoded_df], axis=1)\n",
    "# # train_df_encoded = pd.concat([train_df.drop(columns=categorical_cols), encoded_df], axis=1)\n",
    "# encoded_test_columns = encoder.transform(test_df[categorical_cols])\n",
    "# encoded_test_df = pd.DataFrame(\n",
    "#     encoded_test_columns, columns=encoder.get_feature_names_out(categorical_cols)\n",
    "# )\n",
    "# test_df_encoded = pd.concat([test_df.drop(columns=categorical_cols), encoded_test_df], axis=1)"
   ]
  },
  {
   "cell_type": "markdown",
   "id": "8c2b4519",
   "metadata": {},
   "source": [
    "#### Label Encoding"
   ]
  },
  {
   "cell_type": "code",
   "execution_count": 38,
   "id": "63c15e91",
   "metadata": {},
   "outputs": [],
   "source": [
    "from sklearn.preprocessing import LabelEncoder\n",
    "\n",
    "encoder = LabelEncoder()\n",
    "\n",
    "categorical_cols = train_df[train_cols].select_dtypes(include=[\"category\", \"object\"]).columns\n",
    "\n",
    "# O Label Encoding converte categorias em inteiros (ex: \"A\", \"B\", \"C\" → 0, 1, 2).\n",
    "# É uma codificação simples, apropriada para modelos baseados em árvore que não são sensíveis à ordem dos valores.\n",
    "# Como o encoder é ajustado apenas nos dados de treino, não há risco de vazamento de dados (data leakage).\n",
    "for col in categorical_cols:\n",
    "    train_df[col] = encoder.fit_transform(train_df[col])\n",
    "    test_df[col] = encoder.transform(test_df[col])"
   ]
  },
  {
   "cell_type": "markdown",
   "id": "255ecffa",
   "metadata": {},
   "source": [
    "#### Writing Transformed Datasets"
   ]
  },
  {
   "cell_type": "code",
   "execution_count": 47,
   "id": "9a66033c",
   "metadata": {},
   "outputs": [],
   "source": [
    "save_datasets(df_train=train_df, df_test=test_df, append_name=\"target_encoding\")\n",
    "# save_datasets(df_train=train_df, df_test=test_df, append_name=\"standard_scaler\")\n",
    "# save_datasets(df_train=train_df, df_test=test_df, append_name=\"minmax_scaler\")\n",
    "# save_datasets(df_train=train_df, df_test=test_df, append_name=\"robust_scaler\")\n",
    "# save_datasets(df_train=train_df, df_test=test_df, append_name=\"label_encoding\")"
   ]
  },
  {
   "cell_type": "markdown",
   "id": "3a430471",
   "metadata": {},
   "source": [
    "### Model Instantiation "
   ]
  },
  {
   "cell_type": "code",
   "execution_count": 48,
   "id": "1b3f6d84",
   "metadata": {},
   "outputs": [],
   "source": [
    "# _, train_df ,test_df, train_cols, target_col = read_datasets(\"raw\")\n",
    "_, train_df ,test_df, train_cols, target_col = read_datasets(\"target_encoding\")\n",
    "# _, train_df ,test_df, train_cols, target_col = read_datasets(\"standard_scaler\")\n",
    "# _, train_df ,test_df, train_cols, target_col = read_datasets(\"minmax_scaler\")\n",
    "# _, train_df ,test_df, train_cols, target_col = read_datasets(\"robust_scaler\")\n",
    "# _, train_df ,test_df, train_cols, target_col = read_datasets(\"label_encoding\")"
   ]
  },
  {
   "cell_type": "code",
   "execution_count": 49,
   "id": "606b6bf7",
   "metadata": {},
   "outputs": [],
   "source": [
    "X = train_df[train_cols]\n",
    "y = train_df[target_col]"
   ]
  },
  {
   "cell_type": "markdown",
   "id": "15fcd8c5",
   "metadata": {},
   "source": [
    "#### All Default Models"
   ]
  },
  {
   "cell_type": "code",
   "execution_count": null,
   "id": "2b2d840f",
   "metadata": {},
   "outputs": [
    {
     "name": "stdout",
     "output_type": "stream",
     "text": [
      "Training Dummy with 4 in TimeSeriesSplit...\n",
      "Fold 1: MAE: 397.0867, RMSE: 966.0150, RMSLE: 3.8712, R2: -0.0082, Time: 0.0030s\n",
      "Fold 2: MAE: 456.3634, RMSE: 1080.6752, RMSLE: 3.7774, R2: -0.0077, Time: 0.0026s\n",
      "Fold 3: MAE: 530.0777, RMSE: 1274.8923, RMSLE: 3.4555, R2: -0.0123, Time: 0.0041s\n",
      "Fold 4: MAE: 583.0717, RMSE: 1374.3693, RMSLE: 3.4317, R2: -0.0112, Time: 0.0043s\n",
      "============================================================\n",
      "Training LightGBM with 4 in TimeSeriesSplit...\n",
      "Fold 1: MAE: 98.4177, RMSE: 406.1675, RMSLE: 1.6452, R2: 0.8218, Time: 2.7236s\n",
      "Fold 2: MAE: 82.5089, RMSE: 343.3940, RMSLE: 1.1670, R2: 0.8983, Time: 2.5841s\n",
      "Fold 3: MAE: 77.2809, RMSE: 386.0571, RMSLE: 0.9394, R2: 0.9072, Time: 4.9669s\n",
      "Fold 4: MAE: 80.0955, RMSE: 314.1135, RMSLE: 0.9432, R2: 0.9472, Time: 6.6827s\n",
      "============================================================\n"
     ]
    }
   ],
   "source": [
    "# Aqui executamos um pipeline de avaliação para múltiplos modelos de regressão.\n",
    "# Utilizando validação cruzada com número de splits = 4 específica para séries temporais (`TimeSeriesSplit`),\n",
    "# Treinamos cada modelo definido, coleta métricas de desempenho (como MAE, RMSE, RMSLE, R2) e tempos de treinamento.\n",
    "\n",
    "models = {\n",
    "    # 1. Baseline Models: These are naive benchmarks to set a minimum performance standard.\n",
    "    \"Dummy\": DummyRegressor(),\n",
    "    \"Linear\": LinearRegression(),\n",
    "    # 2. Regularized Linear Models\n",
    "    \"Ridge\": Ridge(),\n",
    "    \"Lasso\": Lasso(),\n",
    "    \"ElasticNet\": ElasticNet(),\n",
    "    # 3. Nonlinear Models / Instance-based Learning\n",
    "    \"KNN\": KNeighborsRegressor(n_jobs=-1),\n",
    "    \"DecisionTree\": DecisionTreeRegressor(),\n",
    "    # 4. Ensemble Tree-based Models\n",
    "    \"RandomForest\": RandomForestRegressor(n_jobs=-1),\n",
    "    \"GradientBoosting\": GradientBoostingRegressor(),\n",
    "    \"HistGradientBoosting\": HistGradientBoostingRegressor(),\n",
    "    # 5. Advanced Gradient Boosting Frameworks\n",
    "    \"LightGBM\": LGBMRegressor(n_jobs=-1, verbose=-1),\n",
    "    \"XGBoost\": XGBRegressor(enable_categorical=True, n_jobs=-1, verbosity=0),\n",
    "    \"CatBoost\": CatBoostRegressor(thread_count=-1),\n",
    "    # 6. Neural Networks\n",
    "    \"MLP\": MLPRegressor(verbose=True)\n",
    "}\n",
    "\n",
    "\n",
    "n_splits = 4\n",
    "tscv = TimeSeriesSplit(n_splits=n_splits)\n",
    "results_metrics = {}\n",
    "results_time = {}\n",
    "\n",
    "for name, model in models.items():\n",
    "    print(f\"Training {name} with {n_splits} in TimeSeriesSplit...\")\n",
    "    mae_scores, mse_scores, mape_scores, rmse_scores, rmsle_scores, r2_scores = (\n",
    "        [],\n",
    "        [],\n",
    "        [],\n",
    "        [],\n",
    "        [],\n",
    "        [],\n",
    "    )\n",
    "    results_folds_time = []\n",
    "    start_time = time.time()\n",
    "\n",
    "    for fold, (train_idx, test_idx) in enumerate(tscv.split(X)):\n",
    "        X_train, X_val = X.iloc[train_idx], X.iloc[test_idx]\n",
    "        y_train, y_val = y.iloc[train_idx], y.iloc[test_idx]\n",
    "\n",
    "        start_fold_time = time.time()\n",
    "\n",
    "        model.fit(X_train, y_train)\n",
    "        y_pred = model.predict(X_val)\n",
    "        y_pred = np.clip(y_pred, 0, None)\n",
    "\n",
    "        elapsed_fold_time = time.time() - start_fold_time\n",
    "\n",
    "        results_folds_time.append(elapsed_fold_time)\n",
    "        mae_scores.append(mean_absolute_error(y_val, y_pred))\n",
    "        # mse_scores.append(mean_squared_error(y_val, y_pred))\n",
    "        # mape_scores.append(mean_absolute_percentage_error(y_val, y_pred))\n",
    "        rmse_scores.append(root_mean_squared_error(y_val, y_pred))\n",
    "        rmsle_scores.append(root_mean_squared_log_error(y_val, y_pred))\n",
    "        r2_scores.append(r2_score(y_val, y_pred))\n",
    "\n",
    "        print(\n",
    "            \"Fold {}: MAE: {:.4f}, RMSE: {:.4f}, RMSLE: {:.4f}, R2: {:.4f}, Time: {:.4f}s\".format(\n",
    "                fold + 1,\n",
    "                mae_scores[-1],\n",
    "                rmse_scores[-1],\n",
    "                rmsle_scores[-1],\n",
    "                r2_scores[-1],\n",
    "                elapsed_fold_time,\n",
    "            )\n",
    "        )\n",
    "\n",
    "    elapsed_time = time.time() - start_time\n",
    "    results_metrics[name] = {\n",
    "        \"MAE\": np.round(np.mean(mae_scores), 4),\n",
    "        # \"MSE\": np.round(np.mean(mse_scores),4),\n",
    "        # \"MAPE\": np.round(np.mean(mape_scores),4),\n",
    "        \"RMSE\": np.round(np.mean(rmse_scores), 4),\n",
    "        \"RMSLE\": np.round(np.mean(rmsle_scores), 4),\n",
    "        \"R2\": np.round(np.mean(r2_scores), 4),\n",
    "    }\n",
    "\n",
    "    results_time[name] = {\n",
    "        \"Fold Time\": np.round(results_folds_time, 4),\n",
    "        \"Mean Fold Time\": np.round(np.mean(results_folds_time),4),\n",
    "        \"Total Time\": np.round(elapsed_time, 4),\n",
    "    }\n",
    "    print(\"=\" * 60)\n",
    "\n",
    "results_metrics_df = pd.DataFrame.from_dict(results_metrics, orient=\"index\")\n",
    "normalized_time_results = {}\n",
    "for model_name, time_data in results_time.items():\n",
    "    model_row = {}\n",
    "    for i, fold_time in enumerate(time_data[\"Fold Time\"], start=1):\n",
    "        model_row[f\"Fold {i}\"] = fold_time\n",
    "    model_row[\"Mean Fold Time\"] = time_data[\"Mean Fold Time\"]\n",
    "    model_row[\"Total Time\"] = time_data[\"Total Time\"]\n",
    "    normalized_time_results[model_name] = model_row\n",
    "results_time_df = pd.DataFrame.from_dict(normalized_time_results, orient=\"index\")"
   ]
  },
  {
   "cell_type": "code",
   "execution_count": 20,
   "id": "0298a2a0",
   "metadata": {},
   "outputs": [
    {
     "data": {
      "text/html": [
       "<div>\n",
       "<style scoped>\n",
       "    .dataframe tbody tr th:only-of-type {\n",
       "        vertical-align: middle;\n",
       "    }\n",
       "\n",
       "    .dataframe tbody tr th {\n",
       "        vertical-align: top;\n",
       "    }\n",
       "\n",
       "    .dataframe thead th {\n",
       "        text-align: right;\n",
       "    }\n",
       "</style>\n",
       "<table border=\"1\" class=\"dataframe\">\n",
       "  <thead>\n",
       "    <tr style=\"text-align: right;\">\n",
       "      <th></th>\n",
       "      <th>MAE</th>\n",
       "      <th>RMSE</th>\n",
       "      <th>RMSLE</th>\n",
       "      <th>R2</th>\n",
       "    </tr>\n",
       "  </thead>\n",
       "  <tbody>\n",
       "    <tr>\n",
       "      <th>Dummy</th>\n",
       "      <td>491.6499</td>\n",
       "      <td>1173.9879</td>\n",
       "      <td>3.6339</td>\n",
       "      <td>-0.0098</td>\n",
       "    </tr>\n",
       "    <tr>\n",
       "      <th>LightGBM</th>\n",
       "      <td>84.5757</td>\n",
       "      <td>362.4330</td>\n",
       "      <td>1.1737</td>\n",
       "      <td>0.8936</td>\n",
       "    </tr>\n",
       "  </tbody>\n",
       "</table>\n",
       "</div>"
      ],
      "text/plain": [
       "               MAE       RMSE   RMSLE      R2\n",
       "Dummy     491.6499  1173.9879  3.6339 -0.0098\n",
       "LightGBM   84.5757   362.4330  1.1737  0.8936"
      ]
     },
     "execution_count": 20,
     "metadata": {},
     "output_type": "execute_result"
    }
   ],
   "source": [
    "results_metrics_df"
   ]
  },
  {
   "cell_type": "code",
   "execution_count": 21,
   "id": "419ccf38",
   "metadata": {},
   "outputs": [
    {
     "data": {
      "text/html": [
       "<div>\n",
       "<style scoped>\n",
       "    .dataframe tbody tr th:only-of-type {\n",
       "        vertical-align: middle;\n",
       "    }\n",
       "\n",
       "    .dataframe tbody tr th {\n",
       "        vertical-align: top;\n",
       "    }\n",
       "\n",
       "    .dataframe thead th {\n",
       "        text-align: right;\n",
       "    }\n",
       "</style>\n",
       "<table border=\"1\" class=\"dataframe\">\n",
       "  <thead>\n",
       "    <tr style=\"text-align: right;\">\n",
       "      <th></th>\n",
       "      <th>Fold 1</th>\n",
       "      <th>Fold 2</th>\n",
       "      <th>Fold 3</th>\n",
       "      <th>Fold 4</th>\n",
       "      <th>Mean Fold Time</th>\n",
       "      <th>Total Time</th>\n",
       "    </tr>\n",
       "  </thead>\n",
       "  <tbody>\n",
       "    <tr>\n",
       "      <th>Dummy</th>\n",
       "      <td>0.0030</td>\n",
       "      <td>0.0026</td>\n",
       "      <td>0.0041</td>\n",
       "      <td>0.0043</td>\n",
       "      <td>0.0035</td>\n",
       "      <td>0.9290</td>\n",
       "    </tr>\n",
       "    <tr>\n",
       "      <th>LightGBM</th>\n",
       "      <td>2.7236</td>\n",
       "      <td>2.5841</td>\n",
       "      <td>4.9669</td>\n",
       "      <td>6.6827</td>\n",
       "      <td>4.2393</td>\n",
       "      <td>17.9632</td>\n",
       "    </tr>\n",
       "  </tbody>\n",
       "</table>\n",
       "</div>"
      ],
      "text/plain": [
       "          Fold 1  Fold 2  Fold 3  Fold 4  Mean Fold Time  Total Time\n",
       "Dummy     0.0030  0.0026  0.0041  0.0043          0.0035      0.9290\n",
       "LightGBM  2.7236  2.5841  4.9669  6.6827          4.2393     17.9632"
      ]
     },
     "execution_count": 21,
     "metadata": {},
     "output_type": "execute_result"
    }
   ],
   "source": [
    "results_time_df"
   ]
  },
  {
   "cell_type": "markdown",
   "id": "7aa54398",
   "metadata": {},
   "source": [
    "#### LightGBM"
   ]
  },
  {
   "cell_type": "markdown",
   "id": "1ca654f1",
   "metadata": {},
   "source": [
    "##### Trainer Class"
   ]
  },
  {
   "cell_type": "markdown",
   "id": "22531195",
   "metadata": {},
   "source": [
    "> Definimos a classe `Trainer`, que centraliza os métodos de treinamento, validação e exportação do(s) modelo(s)."
   ]
  },
  {
   "cell_type": "code",
   "execution_count": 39,
   "id": "f9ab9ece",
   "metadata": {},
   "outputs": [],
   "source": [
    "class Trainer:\n",
    "    def __init__(\n",
    "        self,\n",
    "        X,\n",
    "        y,\n",
    "        metrics={\n",
    "            \"RMSLE\": root_mean_squared_log_error,\n",
    "            \"RMSE\": root_mean_squared_error,\n",
    "            \"MAE\": mean_absolute_error,\n",
    "            \"R2\": r2_score,\n",
    "        },\n",
    "    ):\n",
    "        self.X = X\n",
    "        self.y = y\n",
    "        self.metrics = metrics\n",
    "        self.models = {}\n",
    "        self.ensemble_models = {}\n",
    "        self.submission = self._load_submission()\n",
    "\n",
    "    def _load_submission(self):\n",
    "        df_sample_submission = pd.read_csv(base_folder + \"ml_submission_test.csv\")\n",
    "        return df_sample_submission\n",
    "\n",
    "    def get_models(self):\n",
    "        return self.models\n",
    "\n",
    "    def get_ensemble_models(self):\n",
    "        return self.ensemble_models\n",
    "\n",
    "    def model_fn(self, model_str, model_params={}):\n",
    "        if model_str == \"lgbm\":\n",
    "            return lambda: LGBMRegressor(**model_params)\n",
    "        elif model_str == \"catboost\":\n",
    "            return lambda: CatBoostRegressor(**model_params)\n",
    "        elif model_str == \"linear\":\n",
    "            return lambda: LinearRegression(**model_params)\n",
    "        elif model_str == \"ridge\":\n",
    "            return lambda: Ridge(**model_params)\n",
    "        elif model_str == \"lasso\":\n",
    "            return lambda: Lasso(**model_params)\n",
    "        elif model_str == \"elasticnet\":\n",
    "            return lambda: ElasticNet(**model_params)\n",
    "        elif model_str == \"knn\":\n",
    "            return lambda: KNeighborsRegressor(**model_params)\n",
    "        elif model_str == \"dummy\":\n",
    "            return lambda: DummyRegressor(**model_params)\n",
    "        elif model_str == \"decision_tree\":\n",
    "            return lambda: DecisionTreeRegressor(**model_params)\n",
    "        else:\n",
    "            raise ValueError(f\"Unknown model string: {model_str}\")\n",
    "\n",
    "    def get_metrics(self, y_true, y_pred):\n",
    "        results = {}\n",
    "        for metric_name, metric_fn in self.metrics.items():\n",
    "            metric_value = metric_fn(y_true, y_pred)\n",
    "            results[metric_name] = np.round(metric_value, 4)\n",
    "        return results\n",
    "\n",
    "    def train(self, model_names, models_list, params_list, X=None, y=None):\n",
    "        if X is None:\n",
    "            X = self.X\n",
    "        if y is None:\n",
    "            y = self.y\n",
    "        self.models.clear()\n",
    "        results = {}\n",
    "        X_train, X_eval, y_train, y_eval = train_test_split(\n",
    "            X, y, test_size=0.2, random_state=42, shuffle=False\n",
    "        )\n",
    "        for name, model, params in zip(model_names, models_list, params_list):\n",
    "            print(f\"Model: [{name}] - Type: [{model}]\")\n",
    "            print(\"\\nTraining...\")\n",
    "            eval_results = {}\n",
    "            model_instance = self.model_fn(model, params)()\n",
    "            start_time = time.time()\n",
    "            model_instance.fit(\n",
    "                X_train,\n",
    "                y_train,\n",
    "                eval_metric=model_instance.objective,\n",
    "                eval_set=[(X_train, y_train), (X_eval, y_eval)],\n",
    "                callbacks=[\n",
    "                    lgb.log_evaluation(period=100),\n",
    "                    lgb.record_evaluation(eval_results),\n",
    "                    lgb.early_stopping(stopping_rounds=1000),\n",
    "                ],\n",
    "            )\n",
    "            training_time = time.time() - start_time\n",
    "            training_time = np.round(training_time, 4)\n",
    "            print(f\"Training time for {name}: {training_time} seconds\")\n",
    "            y_pred = model_instance.predict(X_eval)\n",
    "            y_pred = np.clip(y_pred, 0, None)\n",
    "            self.models[name] = model_instance\n",
    "            print(\"\\nMetrics...\")\n",
    "            metric_results = self.get_metrics(y_eval, y_pred)\n",
    "            results[name] = metric_results\n",
    "            results[name][\"Training Time (s)\"] = training_time\n",
    "            print(\n",
    "                \" | \".join(\n",
    "                    [\n",
    "                        f\"{metric_name}: {metric_results[metric_name]}\"\n",
    "                        for metric_name in self.metrics.keys()\n",
    "                    ]\n",
    "                )\n",
    "            )\n",
    "            print(90 * \"=\")\n",
    "            results_df = pd.DataFrame.from_dict(\n",
    "                results, orient=\"index\", columns=list(self.metrics.keys()) + [\"Training Time (s)\"]\n",
    "            )\n",
    "        return results_df\n",
    "\n",
    "    def plot_metrics(self, model_names, figsize=(10, 5)):\n",
    "        for model_name in model_names:\n",
    "            lgb.plot_metric(self.models[model_name], figsize=figsize)\n",
    "\n",
    "    def plot_feature_importance(self, model_names, top_percent=0.5, figsize=(10, 10)):\n",
    "        for model_name in model_names:\n",
    "            feature_importance = self.models[model_name].feature_importances_\n",
    "            feature_names = self.models[model_name].feature_name_\n",
    "\n",
    "            importance_df = pd.DataFrame(\n",
    "                {\"Feature\": feature_names, \"Importance\": feature_importance}\n",
    "            )\n",
    "            importance_df = importance_df.sort_values(by=\"Importance\", ascending=False)\n",
    "\n",
    "            top_n = max(1, int(len(importance_df) * top_percent))\n",
    "            importance_df = importance_df.head(top_n)\n",
    "\n",
    "            plt.figure(figsize=figsize)\n",
    "            sns.barplot(\n",
    "                x=\"Importance\", y=\"Feature\", data=importance_df, hue=\"Feature\", palette=\"viridis\"\n",
    "            )\n",
    "\n",
    "            plt.xlabel(\"Feature Importance\", fontsize=14)\n",
    "            plt.ylabel(\"Feature Name\", fontsize=14)\n",
    "            plt.title(\"LightGBM Feature Importance\", fontsize=16, fontweight=\"bold\")\n",
    "            plt.grid(axis=\"x\", linestyle=\"--\", alpha=0.6)\n",
    "            plt.gca().spines[\"top\"].set_visible(False)\n",
    "            plt.gca().spines[\"right\"].set_visible(False)\n",
    "\n",
    "            plt.show()\n",
    "\n",
    "    def train_timeseries_split(self, model_names, models_list, params_list, n_splits=2):\n",
    "        self.models.clear()\n",
    "        tscv = TimeSeriesSplit(n_splits=n_splits)\n",
    "        results = {}\n",
    "        for name, model, params in zip(model_names, models_list, params_list):\n",
    "            print(f\"Model: [{name}] - Type: [{model}]\")\n",
    "            print(\"Training...\")\n",
    "            model_instance = self.model_fn(model, params)()\n",
    "            fold_results = []\n",
    "            for fold, (train_index, test_index) in enumerate(tscv.split(self.X), 1):\n",
    "                X_train, X_test = self.X.iloc[train_index], self.X.iloc[test_index]\n",
    "                y_train, y_test = self.y.iloc[train_index], self.y.iloc[test_index]\n",
    "                model_instance.fit(X_train, y_train)\n",
    "                y_pred = model_instance.predict(X_test)\n",
    "                y_pred = np.clip(y_pred, 0, None)\n",
    "                fold_results.append(root_mean_squared_log_error(y_test, y_pred))\n",
    "                print(f\"Fold {fold} RMSLE: {fold_results[-1]}\")\n",
    "            results[name] = np.mean(fold_results)\n",
    "            self.models[name] = model_instance\n",
    "            print(f\"Overall RMSE for {name}: {results[name]}\")\n",
    "        return results\n",
    "\n",
    "    def predict(self, X_test):\n",
    "        predictions = {}\n",
    "        for name, model in self.models.items():\n",
    "            predictions[name] = model.predict(X_test)\n",
    "        df_predictions = pd.DataFrame(predictions, index=X_test.index)\n",
    "        return df_predictions\n",
    "\n",
    "    def train_ensemble(self, model_names, models_list, params_list, ensemble_cols):\n",
    "        self.ensemble_models = {}\n",
    "        results = {}\n",
    "\n",
    "        for name, model, params, ensemble_col in zip(\n",
    "            model_names, models_list, params_list, ensemble_cols\n",
    "        ):\n",
    "            print(f\"\\nTraining for Ensemble Column: [{ensemble_col}]\\n\")\n",
    "            if ensemble_col not in self.ensemble_models:\n",
    "                self.ensemble_models[ensemble_col] = {}\n",
    "            if ensemble_col not in results:\n",
    "                results[ensemble_col] = {}\n",
    "\n",
    "            unique_values = self.X[ensemble_col].unique()\n",
    "            print(f\"Unique values in [{ensemble_col}]: {len(unique_values)}\")\n",
    "            for unique_id, unique_value in enumerate(unique_values, 1):\n",
    "                print(\n",
    "                    f\"Model: [{name}] - Type: [{model}] - Unique Value: [{unique_value}] - ID: [{unique_id}]\"\n",
    "                )\n",
    "\n",
    "                X_subset = self.X[self.X[ensemble_col] == unique_value]\n",
    "                y_subset = self.y[self.X[ensemble_col] == unique_value]\n",
    "\n",
    "                if unique_value not in self.ensemble_models[ensemble_col]:\n",
    "                    self.ensemble_models[ensemble_col][unique_value] = {}\n",
    "                if unique_value not in results[ensemble_col]:\n",
    "                    results[ensemble_col][unique_value] = {}\n",
    "\n",
    "                model_instance = self.model_fn(model, params)()\n",
    "                model_instance.fit(X_subset, y_subset)\n",
    "\n",
    "                y_pred = model_instance.predict(X_subset)\n",
    "                y_pred = np.clip(y_pred, 0, None)\n",
    "\n",
    "                metric_results = self.get_metrics(y_subset, y_pred)\n",
    "\n",
    "                self.ensemble_models[ensemble_col][unique_value][name] = {\n",
    "                    \"model_type\": model,\n",
    "                    \"model\": model_instance,\n",
    "                }\n",
    "\n",
    "                results[ensemble_col][unique_value][name] = {\n",
    "                    \"model_type\": model,\n",
    "                    \"metrics\": metric_results,\n",
    "                }\n",
    "\n",
    "                print(\" | \".join(f\"{k}: {metric_results[k]}\" for k in self.metrics.keys()))\n",
    "            print(\"=\" * 90)\n",
    "\n",
    "        return results\n",
    "\n",
    "    def train_ensemble_timeseries_split(\n",
    "        self, model_names, models_list, params_list, ensemble_col, n_splits=2\n",
    "    ):\n",
    "        self.ensemble_models.clear()\n",
    "        unique_values = self.X[ensemble_col].unique()\n",
    "        results = {}\n",
    "\n",
    "        for unique_value in unique_values:\n",
    "            print(f\"\\nTraining for ensemble column value: [{unique_value}]\")\n",
    "            X_subset = self.X[self.X[ensemble_col] == unique_value]\n",
    "            y_subset = self.y[self.X[ensemble_col] == unique_value]\n",
    "            tscv = TimeSeriesSplit(n_splits=n_splits)\n",
    "            self.ensemble_models[unique_value] = {}\n",
    "            results[unique_value] = {}\n",
    "\n",
    "            for name, model, params in zip(model_names, models_list, params_list):\n",
    "                print(f\"\\nModel: [{name}] - Type: [{model}]\")\n",
    "                print(\"Training...\\n\")\n",
    "                model_instance = self.model_fn(model, params)()\n",
    "                fold_results = []\n",
    "\n",
    "                for fold, (train_index, test_index) in enumerate(tscv.split(X_subset), 1):\n",
    "                    X_train, X_test = X_subset.iloc[train_index], X_subset.iloc[test_index]\n",
    "                    y_train, y_test = y_subset.iloc[train_index], y_subset.iloc[test_index]\n",
    "\n",
    "                    model_instance.fit(X_train, y_train)\n",
    "                    y_pred = model_instance.predict(X_test)\n",
    "                    y_pred = np.clip(y_pred, 0, None)\n",
    "\n",
    "                    rmsle = root_mean_squared_log_error(y_test, y_pred)\n",
    "                    fold_results.append(rmsle)\n",
    "                    print(f\"Fold {fold} RMSLE: {rmsle}\")\n",
    "\n",
    "                avg_rmsle = np.mean(fold_results)\n",
    "                results[unique_value][name] = {\n",
    "                    \"model_type\": model,\n",
    "                    \"rmsle\": avg_rmsle,\n",
    "                    \"folds\": fold_results,\n",
    "                }\n",
    "                self.ensemble_models[unique_value][name] = {\n",
    "                    \"model_type\": model,\n",
    "                    \"model\": model_instance,\n",
    "                }\n",
    "\n",
    "                print(f\"\\nOverall RMSLE for {name}: {avg_rmsle}\")\n",
    "                print(\"========================================================\")\n",
    "\n",
    "        return results\n",
    "\n",
    "    def predict_ensemble(self, X_test, ensemble_cols):\n",
    "        all_ensembles = []\n",
    "\n",
    "        for ensemble_col in ensemble_cols:\n",
    "            print(f\"Predicting for Ensemble Column: [{ensemble_col}]\")\n",
    "            predictions_per_model = {}\n",
    "\n",
    "            for unique_value in self.ensemble_models[ensemble_col]:\n",
    "                print(f\"Unique value: [{unique_value}]\")\n",
    "                X_subset = X_test[X_test[ensemble_col] == unique_value].copy()\n",
    "\n",
    "                for model_name, model_dict in self.ensemble_models[ensemble_col][\n",
    "                    unique_value\n",
    "                ].items():\n",
    "                    y_pred = model_dict[\"model\"].predict(X_subset)\n",
    "                    df_pred = pd.DataFrame({\"id\": X_subset.index, model_name: y_pred})\n",
    "                    if model_name not in predictions_per_model:\n",
    "                        predictions_per_model[model_name] = []\n",
    "                    predictions_per_model[model_name].append(df_pred)\n",
    "\n",
    "            merged_df = None\n",
    "            for model_name, df_list in predictions_per_model.items():\n",
    "                model_df = pd.concat(df_list, axis=0).sort_values(\"id\")\n",
    "                if merged_df is None:\n",
    "                    merged_df = model_df\n",
    "                else:\n",
    "                    merged_df = pd.merge(merged_df, model_df, on=\"id\", how=\"outer\")\n",
    "\n",
    "            merged_df = merged_df.sort_values(\"id\").reset_index(drop=True)\n",
    "            all_ensembles.append(merged_df)\n",
    "\n",
    "        df_final = all_ensembles[0]\n",
    "        for df in all_ensembles[1:]:\n",
    "            df_final = pd.merge(df_final, df, on=\"id\", how=\"outer\")\n",
    "\n",
    "        # Apply ensemble and add ensemble_col-specific column\n",
    "        df_ensemble = self.ensemble(df_final, list(df_final.columns[1:]))\n",
    "        df_final = df_final.merge(df_ensemble, on=\"id\", how=\"left\")\n",
    "        df_final = df_final.rename(columns={\"sales\": \"sales_ensemble\"})\n",
    "\n",
    "        return df_final\n",
    "\n",
    "    def ensemble(self, predictions: pd.DataFrame, ensemble_cols: list) -> pd.DataFrame:\n",
    "        sales = predictions[ensemble_cols].mean(axis=1).clip(lower=0)\n",
    "        return (\n",
    "            pd.DataFrame({\"id\": predictions[\"id\"], \"sales\": sales}).sort_values(\"id\")\n",
    "            # .reset_index(drop=True)\n",
    "        )\n",
    "\n",
    "    def get_export_format(self, predictions):\n",
    "        dicc_export = {\"id\": self.submission[\"id\"].values, \"sales\": predictions}\n",
    "        df_export = pd.DataFrame(dicc_export)\n",
    "        return df_export\n",
    "\n",
    "    def evaluate(self, predictions):\n",
    "        df_export = self.get_export_format(predictions)\n",
    "        df_export[\"sales\"] = np.clip(df_export[\"sales\"], 0, None)\n",
    "        rmsle = root_mean_squared_log_error(df_export[\"sales\"], self.submission[\"sales\"])\n",
    "        print(f\"RMSLE: {rmsle}\")\n",
    "        return rmsle\n",
    "\n",
    "    def export(self, predictions, filename):\n",
    "        df_export = self.get_export_format(predictions)\n",
    "        df_export.to_csv(base_folder + submissions_folder + filename, index=False)\n",
    "        print(f\"Exported to {filename}\")"
   ]
  },
  {
   "cell_type": "markdown",
   "id": "ad234396",
   "metadata": {},
   "source": [
    "##### Hyperparameters Tuning"
   ]
  },
  {
   "cell_type": "code",
   "execution_count": 36,
   "id": "284885c8",
   "metadata": {},
   "outputs": [],
   "source": [
    "def rmsle(y_true, y_pred):\n",
    "    y_pred = np.clip(y_pred, 0, None)\n",
    "    error = root_mean_squared_log_error(y_true, y_pred)\n",
    "    return \"rmsle\", error, False"
   ]
  },
  {
   "cell_type": "code",
   "execution_count": null,
   "id": "fa10c92a",
   "metadata": {},
   "outputs": [],
   "source": [
    "X_train, X_eval, y_train, y_eval = train_test_split(\n",
    "    X, y, test_size=0.2, random_state=42, shuffle=False\n",
    ")"
   ]
  },
  {
   "cell_type": "code",
   "execution_count": null,
   "id": "ac4ff6fe",
   "metadata": {},
   "outputs": [
    {
     "ename": "SyntaxError",
     "evalue": "keyword argument repeated: eval_metric (4052094282.py, line 31)",
     "output_type": "error",
     "traceback": [
      "  \u001b[36mCell\u001b[39m\u001b[36m \u001b[39m\u001b[32mIn[13]\u001b[39m\u001b[32m, line 31\u001b[39m\n\u001b[31m    \u001b[39m\u001b[31meval_metric=model.objective,\u001b[39m\n    ^\n\u001b[31mSyntaxError\u001b[39m\u001b[31m:\u001b[39m keyword argument repeated: eval_metric\n"
     ]
    }
   ],
   "source": [
    "def objective(trial):\n",
    "    params = {\n",
    "        \"objective\": \"tweedie\",\n",
    "        \"metric\": \"rmsle\",\n",
    "        \"boosting_type\": \"gbdt\",\n",
    "        \"verbose\": -1,\n",
    "        \"n_jobs\": -1,\n",
    "        \"boost_from_average\": False,\n",
    "        \"random_state\": 42,\n",
    "        \"bagging_freq\": 1,\n",
    "        \"n_estimators\": trial.suggest_int(\"n_estimators\", 20, 1500, log=True),\n",
    "        \"tweedie_variance_power\": trial.suggest_float(\"tweedie_variance_power\", 1.1, 1.9, step=0.1),\n",
    "        \"learning_rate\": trial.suggest_float(\"learning_rate\", 1e-3, 0.1, log=True),\n",
    "        \"num_leaves\": trial.suggest_int(\"num_leaves\", 2, 4096, log=True),\n",
    "        \"lambda_l1\": trial.suggest_float(\"lambda_l1\", 1e-8, 10.0, log=True),\n",
    "        \"lambda_l2\": trial.suggest_float(\"lambda_l2\", 1e-8, 10.0, log=True),\n",
    "        \"subsample\": trial.suggest_float(\"subsample\", 0.5, 1.0),\n",
    "        \"bagging_fraction\": trial.suggest_float(\"bagging_fraction\", 0.5, 1.0),\n",
    "        \"feature_fraction\": trial.suggest_float(\"feature_fraction\", 0.5, 1.0),\n",
    "    }\n",
    "\n",
    "    model = lgb.LGBMRegressor(**params)\n",
    "\n",
    "    eval_results = {}\n",
    "    model.fit(\n",
    "        X_train,\n",
    "        y_train,\n",
    "        eval_set=[(X_train, y_train), (X_eval, y_eval)],\n",
    "        eval_metric=rmsle,\n",
    "        callbacks=[\n",
    "            lgb.record_evaluation(eval_results),\n",
    "            lgb.early_stopping(stopping_rounds=500, verbose=False),\n",
    "        ],\n",
    "    )\n",
    "\n",
    "    y_pred = model.predict(X_eval)\n",
    "    y_pred = np.clip(y_pred, 0, None)\n",
    "    rmsle_score = root_mean_squared_log_error(y_eval, y_pred)\n",
    "    return rmsle_score"
   ]
  },
  {
   "cell_type": "code",
   "execution_count": 100,
   "id": "79a0b541",
   "metadata": {},
   "outputs": [
    {
     "name": "stderr",
     "output_type": "stream",
     "text": [
      "[I 2025-05-08 10:31:09,365] A new study created in memory with name: no-name-28665829-90c3-4e52-85fb-43a4c0f4cafc\n"
     ]
    },
    {
     "data": {
      "application/vnd.jupyter.widget-view+json": {
       "model_id": "7763869e21904b7e8e808f9d1ebe3b4d",
       "version_major": 2,
       "version_minor": 0
      },
      "text/plain": [
       "  0%|          | 0/1 [00:00<?, ?it/s]"
      ]
     },
     "metadata": {},
     "output_type": "display_data"
    },
    {
     "name": "stdout",
     "output_type": "stream",
     "text": [
      "[I 2025-05-08 10:31:49,090] Trial 0 finished with value: 0.7195247942248724 and parameters: {'n_estimators': 240, 'tweedie_variance_power': 1.7000000000000002, 'learning_rate': 0.02067664906374835, 'num_leaves': 11, 'lambda_l1': 1.0669215523225564e-08, 'lambda_l2': 9.229287379375348, 'subsample': 0.9239035446401405, 'bagging_fraction': 0.9432824505454254, 'feature_fraction': 0.9833023993997706}. Best is trial 0 with value: 0.7195247942248724.\n",
      "Best RMSLE: 0.7195247942248724\n",
      "Best Params: {'n_estimators': 240, 'tweedie_variance_power': 1.7000000000000002, 'learning_rate': 0.02067664906374835, 'num_leaves': 11, 'lambda_l1': 1.0669215523225564e-08, 'lambda_l2': 9.229287379375348, 'subsample': 0.9239035446401405, 'bagging_fraction': 0.9432824505454254, 'feature_fraction': 0.9833023993997706}\n"
     ]
    }
   ],
   "source": [
    "study = optuna.create_study(direction=\"minimize\")\n",
    "study.optimize(objective, n_trials=1, show_progress_bar=True)\n",
    "print(\"Best RMSLE:\", study.best_value)\n",
    "print(\"Best Params:\", study.best_params)"
   ]
  },
  {
   "cell_type": "markdown",
   "id": "792e3715",
   "metadata": {},
   "source": [
    "##### Training in Whole Dataset"
   ]
  },
  {
   "cell_type": "code",
   "execution_count": 17,
   "id": "0422169d",
   "metadata": {},
   "outputs": [],
   "source": [
    "lgb_params = {\n",
    "    \"boosting_type\": \"gbdt\",\n",
    "    \"objective\": \"tweedie\",\n",
    "    \"tweedie_variance_power\": 1.1,\n",
    "    \"n_estimators\": 1500,\n",
    "    \"metric\": \"rmsle\",\n",
    "    \"learning_rate\": 0.015,\n",
    "    \"feature_fraction\": 0.5,\n",
    "    \"bagging_fraction\": 0.5,\n",
    "    \"bagging_frequency\": 1,\n",
    "    \"lambda_l1\": 0.1,\n",
    "    \"lambda_l2\": 0.1,\n",
    "    \"max_depth\": 11,\n",
    "    # \"min_data_in_leaf\": 50,\n",
    "    # \"max_bin\": 255,\n",
    "    # \"device\": \"gpu\",\n",
    "    \"boost_from_average\": False,\n",
    "    \"n_jobs\": -1,\n",
    "    \"seed\": 2004,\n",
    "    \"verbose\": -1,\n",
    "}"
   ]
  },
  {
   "cell_type": "code",
   "execution_count": 31,
   "id": "80b93e16",
   "metadata": {},
   "outputs": [],
   "source": [
    "trainer = Trainer(\n",
    "    X,\n",
    "    y,\n",
    "    metrics={\n",
    "        \"MAE\": mean_absolute_error,\n",
    "        \"RMSE\": root_mean_squared_error,\n",
    "        \"RMSLE\": root_mean_squared_log_error,\n",
    "        \"R2\": r2_score,\n",
    "    },\n",
    ")"
   ]
  },
  {
   "cell_type": "code",
   "execution_count": 32,
   "id": "f8a7aab6",
   "metadata": {},
   "outputs": [
    {
     "name": "stdout",
     "output_type": "stream",
     "text": [
      "Model: [Optuna LightGBM] - Type: [lgbm]\n",
      "\n",
      "Training...\n",
      "Training until validation scores don't improve for 1000 rounds\n",
      "[100]\ttraining's l2: 44829.5\tvalid_1's l2: 97712.2\n",
      "Did not meet early stopping. Best iteration is:\n",
      "[93]\ttraining's l2: 45985.7\tvalid_1's l2: 97266.6\n",
      "Training time for Optuna LightGBM: 16.7971 seconds\n",
      "\n",
      "Metrics...\n",
      "MAE: 79.6299 | RMSE: 311.8693 | RMSLE: 0.889 | R2: 0.9482\n",
      "==========================================================================================\n"
     ]
    }
   ],
   "source": [
    "results_df = trainer.train(model_names=['Optuna LightGBM'],models_list=['lgbm'], params_list=[{'verbose': -1, 'n_jobs': -1}])\n",
    "# results_df = trainer.train(model_names=['Optuna LightGBM'],models_list=['lgbm'], params_list=[lgb_params])"
   ]
  },
  {
   "cell_type": "code",
   "execution_count": 21,
   "id": "508200aa",
   "metadata": {},
   "outputs": [
    {
     "data": {
      "text/html": [
       "<div>\n",
       "<style scoped>\n",
       "    .dataframe tbody tr th:only-of-type {\n",
       "        vertical-align: middle;\n",
       "    }\n",
       "\n",
       "    .dataframe tbody tr th {\n",
       "        vertical-align: top;\n",
       "    }\n",
       "\n",
       "    .dataframe thead th {\n",
       "        text-align: right;\n",
       "    }\n",
       "</style>\n",
       "<table border=\"1\" class=\"dataframe\">\n",
       "  <thead>\n",
       "    <tr style=\"text-align: right;\">\n",
       "      <th></th>\n",
       "      <th>MAE</th>\n",
       "      <th>RMSE</th>\n",
       "      <th>RMSLE</th>\n",
       "      <th>R2</th>\n",
       "      <th>Training Time (s)</th>\n",
       "    </tr>\n",
       "  </thead>\n",
       "  <tbody>\n",
       "    <tr>\n",
       "      <th>Optuna LightGBM</th>\n",
       "      <td>79.6299</td>\n",
       "      <td>311.8693</td>\n",
       "      <td>0.889</td>\n",
       "      <td>0.9482</td>\n",
       "      <td>19.4513</td>\n",
       "    </tr>\n",
       "  </tbody>\n",
       "</table>\n",
       "</div>"
      ],
      "text/plain": [
       "                     MAE      RMSE  RMSLE      R2  Training Time (s)\n",
       "Optuna LightGBM  79.6299  311.8693  0.889  0.9482            19.4513"
      ]
     },
     "execution_count": 21,
     "metadata": {},
     "output_type": "execute_result"
    }
   ],
   "source": [
    "results_df"
   ]
  },
  {
   "cell_type": "code",
   "execution_count": 33,
   "id": "e0c05291",
   "metadata": {},
   "outputs": [
    {
     "data": {
      "image/png": "[encoded data removed]",
      "text/plain": [
       "<Figure size 1000x500 with 1 Axes>"
      ]
     },
     "metadata": {},
     "output_type": "display_data"
    }
   ],
   "source": [
    "trainer.plot_metrics(['Optuna LightGBM'])"
   ]
  },
  {
   "cell_type": "code",
   "execution_count": 38,
   "id": "740dc2cb",
   "metadata": {},
   "outputs": [
    {
     "data": {
      "image/png": "[encoded data removed]",
      "text/plain": [
       "<Figure size 1000x1000 with 1 Axes>"
      ]
     },
     "metadata": {},
     "output_type": "display_data"
    }
   ],
   "source": [
    "trainer.plot_feature_importance(['Optuna LightGBM'], top_percent=0.5, figsize=(10,10))"
   ]
  },
  {
   "cell_type": "markdown",
   "id": "bc56e182",
   "metadata": {},
   "source": [
    "##### Ensemble"
   ]
  },
  {
   "cell_type": "code",
   "execution_count": 133,
   "id": "3f1ebcff",
   "metadata": {},
   "outputs": [],
   "source": [
    "lgb_params = {\n",
    "    \"boosting_type\": \"gbdt\",\n",
    "    \"objective\": \"tweedie\",\n",
    "    \"tweedie_variance_power\": 1.1,\n",
    "    \"n_estimators\": 1500,\n",
    "    \"metric\": \"rmsle\",\n",
    "    \"learning_rate\": 0.015,\n",
    "    \"feature_fraction\": 0.5,\n",
    "    \"bagging_fraction\": 0.5,\n",
    "    \"bagging_frequency\": 1,\n",
    "    \"lambda_l1\": 0.1,\n",
    "    \"lambda_l2\": 0.1,\n",
    "    \"max_depth\": 11,\n",
    "    # \"min_data_in_leaf\": 50,\n",
    "    # \"max_bin\": 255,\n",
    "    # \"device\": \"gpu\",\n",
    "    \"boost_from_average\": False,\n",
    "    \"n_jobs\": -1,\n",
    "    \"seed\": 2004,\n",
    "    \"verbose\": -1,\n",
    "}"
   ]
  },
  {
   "cell_type": "code",
   "execution_count": 134,
   "id": "86beb546",
   "metadata": {},
   "outputs": [],
   "source": [
    "trainer_ensemble = Trainer(X,y)"
   ]
  },
  {
   "cell_type": "code",
   "execution_count": 139,
   "id": "f1d6b736",
   "metadata": {},
   "outputs": [
    {
     "name": "stdout",
     "output_type": "stream",
     "text": [
      "\n",
      "Training for Ensemble Column: [family]\n",
      "\n",
      "Unique values in [family]: ['AUTOMOTIVE', 'BABY CARE', 'BEAUTY', 'BEVERAGES', 'BOOKS', ..., 'POULTRY', 'PREPARED FOODS', 'PRODUCE', 'SCHOOL AND OFFICE SUPPLIES', 'SEAFOOD']\n",
      "Length: 33\n",
      "Categories (33, object): ['AUTOMOTIVE', 'BABY CARE', 'BEAUTY', 'BEVERAGES', ..., 'PREPARED FOODS', 'PRODUCE', 'SCHOOL AND OFFICE SUPPLIES', 'SEAFOOD']\n",
      "Model: [Ensemble Family] - Type: [lgbm] - Unique Value: [AUTOMOTIVE] - ID: [1]\n",
      "RMSLE: 0.5002 | RMSE: 3.34 | MAE: 2.2844 | R2: 0.709\n",
      "Model: [Ensemble Family] - Type: [lgbm] - Unique Value: [BABY CARE] - ID: [2]\n",
      "RMSLE: 0.1467 | RMSE: 0.311 | MAE: 0.0947 | R2: 0.7915\n",
      "Model: [Ensemble Family] - Type: [lgbm] - Unique Value: [BEAUTY] - ID: [3]\n",
      "RMSLE: 0.4407 | RMSE: 2.0696 | MAE: 1.3706 | R2: 0.8137\n",
      "Model: [Ensemble Family] - Type: [lgbm] - Unique Value: [BEVERAGES] - ID: [4]\n",
      "RMSLE: 0.1555 | RMSE: 342.7774 | MAE: 205.8635 | R2: 0.9779\n",
      "Model: [Ensemble Family] - Type: [lgbm] - Unique Value: [BOOKS] - ID: [5]\n",
      "RMSLE: 0.0672 | RMSE: 0.1559 | MAE: 0.0272 | R2: 0.919\n",
      "Model: [Ensemble Family] - Type: [lgbm] - Unique Value: [BREAD/BAKERY] - ID: [6]\n",
      "RMSLE: 0.1297 | RMSE: 56.5823 | MAE: 37.8221 | R2: 0.9764\n",
      "Model: [Ensemble Family] - Type: [lgbm] - Unique Value: [CELEBRATION] - ID: [7]\n",
      "RMSLE: 0.3934 | RMSE: 5.7038 | MAE: 2.6803 | R2: 0.8718\n",
      "Model: [Ensemble Family] - Type: [lgbm] - Unique Value: [CLEANING] - ID: [8]\n",
      "RMSLE: 0.1267 | RMSE: 143.3615 | MAE: 86.506 | R2: 0.9619\n",
      "Model: [Ensemble Family] - Type: [lgbm] - Unique Value: [DAIRY] - ID: [9]\n",
      "RMSLE: 0.1158 | RMSE: 71.5803 | MAE: 46.5141 | R2: 0.9887\n",
      "Model: [Ensemble Family] - Type: [lgbm] - Unique Value: [DELI] - ID: [10]\n",
      "RMSLE: 0.1374 | RMSE: 36.0437 | MAE: 24.7251 | R2: 0.9707\n",
      "Model: [Ensemble Family] - Type: [lgbm] - Unique Value: [EGGS] - ID: [11]\n",
      "RMSLE: 0.2553 | RMSE: 38.9603 | MAE: 23.8079 | R2: 0.942\n",
      "Model: [Ensemble Family] - Type: [lgbm] - Unique Value: [FROZEN FOODS] - ID: [12]\n",
      "RMSLE: 0.2842 | RMSE: 52.6819 | MAE: 22.7589 | R2: 0.9737\n",
      "Model: [Ensemble Family] - Type: [lgbm] - Unique Value: [GROCERY I] - ID: [13]\n",
      "RMSLE: 0.1333 | RMSE: 526.5218 | MAE: 263.6435 | R2: 0.9664\n",
      "Model: [Ensemble Family] - Type: [lgbm] - Unique Value: [GROCERY II] - ID: [14]\n",
      "RMSLE: 0.5113 | RMSE: 9.8095 | MAE: 5.8154 | R2: 0.9003\n",
      "Model: [Ensemble Family] - Type: [lgbm] - Unique Value: [HARDWARE] - ID: [15]\n",
      "RMSLE: 0.4908 | RMSE: 1.2584 | MAE: 0.8537 | R2: 0.4098\n",
      "Model: [Ensemble Family] - Type: [lgbm] - Unique Value: [HOME AND KITCHEN I] - ID: [16]\n",
      "RMSLE: 0.4545 | RMSE: 15.483 | MAE: 7.2653 | R2: 0.8147\n",
      "Model: [Ensemble Family] - Type: [lgbm] - Unique Value: [HOME AND KITCHEN II] - ID: [17]\n",
      "RMSLE: 0.3622 | RMSE: 11.1736 | MAE: 4.8156 | R2: 0.8726\n",
      "Model: [Ensemble Family] - Type: [lgbm] - Unique Value: [HOME APPLIANCES] - ID: [18]\n",
      "RMSLE: 0.3325 | RMSE: 0.6869 | MAE: 0.419 | R2: 0.498\n",
      "Model: [Ensemble Family] - Type: [lgbm] - Unique Value: [HOME CARE] - ID: [19]\n",
      "RMSLE: 0.207 | RMSE: 27.5338 | MAE: 14.1285 | R2: 0.9828\n",
      "Model: [Ensemble Family] - Type: [lgbm] - Unique Value: [LADIESWEAR] - ID: [20]\n",
      "RMSLE: 0.3343 | RMSE: 4.1263 | MAE: 1.9338 | R2: 0.9125\n",
      "Model: [Ensemble Family] - Type: [lgbm] - Unique Value: [LAWN AND GARDEN] - ID: [21]\n",
      "RMSLE: 0.4614 | RMSE: 3.9013 | MAE: 2.0511 | R2: 0.8991\n",
      "Model: [Ensemble Family] - Type: [lgbm] - Unique Value: [LINGERIE] - ID: [22]\n",
      "RMSLE: 0.5942 | RMSE: 4.6748 | MAE: 3.003 | R2: 0.7566\n",
      "Model: [Ensemble Family] - Type: [lgbm] - Unique Value: [LIQUOR,WINE,BEER] - ID: [23]\n",
      "RMSLE: 0.5451 | RMSE: 38.0452 | MAE: 19.8613 | R2: 0.9096\n",
      "Model: [Ensemble Family] - Type: [lgbm] - Unique Value: [MAGAZINES] - ID: [24]\n",
      "RMSLE: 0.3501 | RMSE: 2.0131 | MAE: 0.9885 | R2: 0.8877\n",
      "Model: [Ensemble Family] - Type: [lgbm] - Unique Value: [MEATS] - ID: [25]\n",
      "RMSLE: 0.1832 | RMSE: 63.7078 | MAE: 37.4647 | R2: 0.9805\n",
      "Model: [Ensemble Family] - Type: [lgbm] - Unique Value: [PERSONAL CARE] - ID: [26]\n",
      "RMSLE: 0.1619 | RMSE: 48.8872 | MAE: 28.5875 | R2: 0.9534\n",
      "Model: [Ensemble Family] - Type: [lgbm] - Unique Value: [PET SUPPLIES] - ID: [27]\n",
      "RMSLE: 0.3309 | RMSE: 2.2814 | MAE: 1.1316 | R2: 0.9112\n",
      "Model: [Ensemble Family] - Type: [lgbm] - Unique Value: [PLAYERS AND ELECTRONICS] - ID: [28]\n",
      "RMSLE: 0.3525 | RMSE: 3.227 | MAE: 1.7151 | R2: 0.9063\n",
      "Model: [Ensemble Family] - Type: [lgbm] - Unique Value: [POULTRY] - ID: [29]\n",
      "RMSLE: 0.1999 | RMSE: 58.8232 | MAE: 34.1704 | R2: 0.9784\n",
      "Model: [Ensemble Family] - Type: [lgbm] - Unique Value: [PREPARED FOODS] - ID: [30]\n",
      "RMSLE: 0.2528 | RMSE: 19.2777 | MAE: 12.7062 | R2: 0.9661\n",
      "Model: [Ensemble Family] - Type: [lgbm] - Unique Value: [PRODUCE] - ID: [31]\n",
      "RMSLE: 0.4507 | RMSE: 172.1078 | MAE: 84.307 | R2: 0.9938\n",
      "Model: [Ensemble Family] - Type: [lgbm] - Unique Value: [SCHOOL AND OFFICE SUPPLIES] - ID: [32]\n",
      "RMSLE: 0.317 | RMSE: 2.8944 | MAE: 0.8084 | R2: 0.9823\n",
      "Model: [Ensemble Family] - Type: [lgbm] - Unique Value: [SEAFOOD] - ID: [33]\n",
      "RMSLE: 0.451 | RMSE: 6.6219 | MAE: 4.0216 | R2: 0.9588\n",
      "==========================================================================================\n"
     ]
    }
   ],
   "source": [
    "# ensemble_results = trainer_ensemble.train_ensemble(\n",
    "#     model_names=[\"Ensemble Family\", \"Ensemble Type\", \"Ensemble Cluster\"],\n",
    "#     models_list=[\"lgbm\", \"lgbm\", \"lgbm\"],\n",
    "#     params_list=[lgb_params, lgb_params, lgb_params],\n",
    "#     ensemble_cols=[\"family\", \"type\", \"cluster\"],\n",
    "# )\n",
    "ensemble_results = trainer_ensemble.train_ensemble(\n",
    "    model_names=[\"Ensemble Family\"],\n",
    "    models_list=[\"lgbm\"],\n",
    "    # params_list=[{'verbose':-1, 'n_jobs':-1}],\n",
    "    params_list=[lgb_params],\n",
    "    ensemble_cols=[\"family\"],\n",
    ")"
   ]
  },
  {
   "cell_type": "code",
   "execution_count": 140,
   "id": "a980006c",
   "metadata": {},
   "outputs": [
    {
     "name": "stdout",
     "output_type": "stream",
     "text": [
      "Predicting for Ensemble Column: [family]\n",
      "Unique value: [AUTOMOTIVE]\n",
      "Unique value: [BABY CARE]\n",
      "Unique value: [BEAUTY]\n",
      "Unique value: [BEVERAGES]\n",
      "Unique value: [BOOKS]\n",
      "Unique value: [BREAD/BAKERY]\n",
      "Unique value: [CELEBRATION]\n",
      "Unique value: [CLEANING]\n",
      "Unique value: [DAIRY]\n",
      "Unique value: [DELI]\n",
      "Unique value: [EGGS]\n",
      "Unique value: [FROZEN FOODS]\n",
      "Unique value: [GROCERY I]\n",
      "Unique value: [GROCERY II]\n",
      "Unique value: [HARDWARE]\n",
      "Unique value: [HOME AND KITCHEN I]\n",
      "Unique value: [HOME AND KITCHEN II]\n",
      "Unique value: [HOME APPLIANCES]\n",
      "Unique value: [HOME CARE]\n",
      "Unique value: [LADIESWEAR]\n",
      "Unique value: [LAWN AND GARDEN]\n",
      "Unique value: [LINGERIE]\n",
      "Unique value: [LIQUOR,WINE,BEER]\n",
      "Unique value: [MAGAZINES]\n",
      "Unique value: [MEATS]\n",
      "Unique value: [PERSONAL CARE]\n",
      "Unique value: [PET SUPPLIES]\n",
      "Unique value: [PLAYERS AND ELECTRONICS]\n",
      "Unique value: [POULTRY]\n",
      "Unique value: [PREPARED FOODS]\n",
      "Unique value: [PRODUCE]\n",
      "Unique value: [SCHOOL AND OFFICE SUPPLIES]\n",
      "Unique value: [SEAFOOD]\n"
     ]
    }
   ],
   "source": [
    "ensemble_preds = trainer_ensemble.predict_ensemble(test_df[train_cols], ensemble_cols=['family'])"
   ]
  },
  {
   "cell_type": "code",
   "execution_count": 141,
   "id": "a196b3bd",
   "metadata": {},
   "outputs": [
    {
     "data": {
      "text/html": [
       "<div>\n",
       "<style scoped>\n",
       "    .dataframe tbody tr th:only-of-type {\n",
       "        vertical-align: middle;\n",
       "    }\n",
       "\n",
       "    .dataframe tbody tr th {\n",
       "        vertical-align: top;\n",
       "    }\n",
       "\n",
       "    .dataframe thead th {\n",
       "        text-align: right;\n",
       "    }\n",
       "</style>\n",
       "<table border=\"1\" class=\"dataframe\">\n",
       "  <thead>\n",
       "    <tr style=\"text-align: right;\">\n",
       "      <th></th>\n",
       "      <th>id</th>\n",
       "      <th>Ensemble Family</th>\n",
       "      <th>sales_ensemble</th>\n",
       "    </tr>\n",
       "  </thead>\n",
       "  <tbody>\n",
       "    <tr>\n",
       "      <th>0</th>\n",
       "      <td>3000888</td>\n",
       "      <td>4.709007</td>\n",
       "      <td>4.709007</td>\n",
       "    </tr>\n",
       "    <tr>\n",
       "      <th>1</th>\n",
       "      <td>3000889</td>\n",
       "      <td>0.001590</td>\n",
       "      <td>0.001590</td>\n",
       "    </tr>\n",
       "    <tr>\n",
       "      <th>2</th>\n",
       "      <td>3000890</td>\n",
       "      <td>5.580938</td>\n",
       "      <td>5.580938</td>\n",
       "    </tr>\n",
       "    <tr>\n",
       "      <th>3</th>\n",
       "      <td>3000891</td>\n",
       "      <td>2334.796342</td>\n",
       "      <td>2334.796342</td>\n",
       "    </tr>\n",
       "    <tr>\n",
       "      <th>4</th>\n",
       "      <td>3000892</td>\n",
       "      <td>0.012993</td>\n",
       "      <td>0.012993</td>\n",
       "    </tr>\n",
       "    <tr>\n",
       "      <th>...</th>\n",
       "      <td>...</td>\n",
       "      <td>...</td>\n",
       "      <td>...</td>\n",
       "    </tr>\n",
       "    <tr>\n",
       "      <th>28507</th>\n",
       "      <td>3029395</td>\n",
       "      <td>364.636784</td>\n",
       "      <td>364.636784</td>\n",
       "    </tr>\n",
       "    <tr>\n",
       "      <th>28508</th>\n",
       "      <td>3029396</td>\n",
       "      <td>108.488416</td>\n",
       "      <td>108.488416</td>\n",
       "    </tr>\n",
       "    <tr>\n",
       "      <th>28509</th>\n",
       "      <td>3029397</td>\n",
       "      <td>1358.624731</td>\n",
       "      <td>1358.624731</td>\n",
       "    </tr>\n",
       "    <tr>\n",
       "      <th>28510</th>\n",
       "      <td>3029398</td>\n",
       "      <td>120.422302</td>\n",
       "      <td>120.422302</td>\n",
       "    </tr>\n",
       "    <tr>\n",
       "      <th>28511</th>\n",
       "      <td>3029399</td>\n",
       "      <td>15.348564</td>\n",
       "      <td>15.348564</td>\n",
       "    </tr>\n",
       "  </tbody>\n",
       "</table>\n",
       "<p>28512 rows × 3 columns</p>\n",
       "</div>"
      ],
      "text/plain": [
       "            id  Ensemble Family  sales_ensemble\n",
       "0      3000888         4.709007        4.709007\n",
       "1      3000889         0.001590        0.001590\n",
       "2      3000890         5.580938        5.580938\n",
       "3      3000891      2334.796342     2334.796342\n",
       "4      3000892         0.012993        0.012993\n",
       "...        ...              ...             ...\n",
       "28507  3029395       364.636784      364.636784\n",
       "28508  3029396       108.488416      108.488416\n",
       "28509  3029397      1358.624731     1358.624731\n",
       "28510  3029398       120.422302      120.422302\n",
       "28511  3029399        15.348564       15.348564\n",
       "\n",
       "[28512 rows x 3 columns]"
      ]
     },
     "execution_count": 141,
     "metadata": {},
     "output_type": "execute_result"
    }
   ],
   "source": [
    "ensemble_preds"
   ]
  },
  {
   "cell_type": "code",
   "execution_count": 143,
   "id": "e3a7a45c",
   "metadata": {},
   "outputs": [
    {
     "name": "stdout",
     "output_type": "stream",
     "text": [
      "Exported to ensemble_family_all_features.csv\n"
     ]
    }
   ],
   "source": [
    "trainer_ensemble.export(ensemble_preds[\"sales_ensemble\"], \"ensemble_family_all_features.csv\")"
   ]
  }
 ],
 "metadata": {
  "kernelspec": {
   "display_name": "machine-learning",
   "language": "python",
   "name": "python3"
  },
  "language_info": {
   "codemirror_mode": {
    "name": "ipython",
    "version": 3
   },
   "file_extension": ".py",
   "mimetype": "text/x-python",
   "name": "python",
   "nbconvert_exporter": "python",
   "pygments_lexer": "ipython3",
   "version": "3.11.2"
  }
 },
 "nbformat": 4,
 "nbformat_minor": 5
}
